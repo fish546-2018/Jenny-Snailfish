{
 "cells": [
  {
   "cell_type": "markdown",
   "metadata": {},
   "source": [
    "This notebook will be how to run FastQC on my data"
   ]
  },
  {
   "cell_type": "code",
   "execution_count": 3,
   "metadata": {
    "scrolled": true
   },
   "outputs": [
    {
     "name": "stderr",
     "output_type": "stream",
     "text": [
      "java version \"1.8.0_191\"\r\n",
      "Java(TM) SE Runtime Environment (build 1.8.0_191-b12)\r\n",
      "Java HotSpot(TM) 64-Bit Server VM (build 25.191-b12, mixed mode)\r\n"
     ]
    }
   ],
   "source": [
    "%%bash\n",
    "/mnt/c/Users/Jenny/Bioinfo-progs/jre1.8.0_191/bin/java.exe -version"
   ]
  },
  {
   "cell_type": "code",
   "execution_count": 2,
   "metadata": {},
   "outputs": [
    {
     "name": "stderr",
     "output_type": "stream",
     "text": [
      "Error: Could not find or load main class uk.ac.babraham.FastQC.FastQCApplication\r\n"
     ]
    }
   ],
   "source": [
    "%%bash\n",
    "/mnt/c/Users/Jenny/Bioinfo-progs/FastQC/fastqc \\\n",
    "-j /mnt/c/Users/Jenny/Bioinfo-progs/jre1.8.0_191/bin/java.exe \\\n",
    "../data/1078_S1_L001_R1_001.fastq \\\n",
    "-o ../data/"
   ]
  }
 ],
 "metadata": {
  "kernelspec": {
   "display_name": "Python 3",
   "language": "python",
   "name": "python3"
  },
  "language_info": {
   "codemirror_mode": {
    "name": "ipython",
    "version": 3
   },
   "file_extension": ".py",
   "mimetype": "text/x-python",
   "name": "python",
   "nbconvert_exporter": "python",
   "pygments_lexer": "ipython3",
   "version": "3.7.0"
  }
 },
 "nbformat": 4,
 "nbformat_minor": 2
}
