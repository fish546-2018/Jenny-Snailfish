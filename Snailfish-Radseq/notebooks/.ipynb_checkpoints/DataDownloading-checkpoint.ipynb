{
 "cells": [
  {
   "cell_type": "markdown",
   "metadata": {},
   "source": [
    "This notebook will document how I retrieved my data file from a fastq file shared with me on Google drive. "
   ]
  },
  {
   "cell_type": "code",
   "execution_count": 1,
   "metadata": {},
   "outputs": [
    {
     "name": "stdout",
     "output_type": "stream",
     "text": [
      "/c/Users/Jenny/Documents/GitHub/Jenny-Snailfish/Snailfish-Radseq/notebooks\n"
     ]
    }
   ],
   "source": [
    "!pwd"
   ]
  },
  {
   "cell_type": "markdown",
   "metadata": {},
   "source": [
    "First determine the path for the file in Google Drive on my machine"
   ]
  },
  {
   "cell_type": "code",
   "execution_count": 2,
   "metadata": {},
   "outputs": [
    {
     "name": "stdout",
     "output_type": "stream",
     "text": [
      "1078_S1_L001_R1_001.fastq.gz\n",
      "August 2018 Manuscripts to Review\n",
      "Beauchamp Lab\n",
      "desktop.ini\n",
      "Grad-School\n",
      "Honors Portfolio\n",
      "India Trip\n",
      "Mars\n",
      "McKennasCommi\n",
      "Old School Work\n",
      "Piit28\n",
      "Random From Dropbox\n",
      "Snailfish\n",
      "SSMSP\n",
      "TaxReturn2014.pdf\n",
      "WA State Licensing_ Driver Pre-Application.pdf\n"
     ]
    }
   ],
   "source": [
    "!ls /g/\"My Drive\"/"
   ]
  },
  {
   "cell_type": "markdown",
   "metadata": {},
   "source": [
    "Use `head` to verify that the path works, because of interface with Jupyter Notebook and Google Drive tab complete doesn't work. Also note that only `!head` works not `%%bash`"
   ]
  },
  {
   "cell_type": "code",
   "execution_count": 6,
   "metadata": {},
   "outputs": [
    {
     "name": "stdout",
     "output_type": "stream",
     "text": [
      "\u001f‹\b\u0004\u0000\u0000\u0000\u0000\u0000ÿ\u0006\u0000BC\u0002\u00003N½�ÍŽãº–¥ç÷)\n",
      "è‘Q0\u0010¿©È\u0003\u000fJ\u0015€¢¡B×(\u0006Õïÿ\"Íï[›²,9¬<·«[\u0011iK\u0014%§\u0017\u0017×þ!Åø·ÿxzz}\u001d",
      "þ\u001ažþúŸÿñò¿ÿ×¿ÿûý×_Ï=??µ——ß¿ÚËÛÛ¿<ÿõŸ=ýõü�ÿüþüúüüþú\u001c",
      "¿¾ÚÛ÷ØöÚq;\u001c",
      "ÛÑ×××Øö¨A¥oN§r+h•øi\u0015Z­ïïovÛEŸíì7W{¡7ñý“J\u001c",
      "}z\u000b",
      "¶|R+¢þh]oþýõ�ýÇÿ\u0018ÇË4Ocû7Ïó0´WvÚ+oõïbÑe\u001aç‰\n"
     ]
    }
   ],
   "source": [
    "!head -2 /g/\"My Drive\"/1078_S1_L001_R1_001.fastq.gz "
   ]
  },
  {
   "cell_type": "markdown",
   "metadata": {},
   "source": [
    "Now move the file from Google Drive to the data folder in my directory. Note: using `mv` because a previous attempt to use `cp` was super slow."
   ]
  },
  {
   "cell_type": "code",
   "execution_count": 7,
   "metadata": {},
   "outputs": [
    {
     "name": "stdout",
     "output_type": "stream",
     "text": [
      "Usage: mv [OPTION]... [-T] SOURCE DEST\n",
      "  or:  mv [OPTION]... SOURCE... DIRECTORY\n",
      "  or:  mv [OPTION]... -t DIRECTORY SOURCE...\n",
      "Rename SOURCE to DEST, or move SOURCE(s) to DIRECTORY.\n",
      "\n",
      "Mandatory arguments to long options are mandatory for short options too.\n",
      "      --backup[=CONTROL]       make a backup of each existing destination file\n",
      "  -b                           like --backup but does not accept an argument\n",
      "  -f, --force                  do not prompt before overwriting\n",
      "  -i, --interactive            prompt before overwrite\n",
      "  -n, --no-clobber             do not overwrite an existing file\n",
      "If you specify more than one of -i, -f, -n, only the final one takes effect.\n",
      "      --strip-trailing-slashes  remove any trailing slashes from each SOURCE\n",
      "                                 argument\n",
      "  -S, --suffix=SUFFIX          override the usual backup suffix\n",
      "  -t, --target-directory=DIRECTORY  move all SOURCE arguments into DIRECTORY\n",
      "  -T, --no-target-directory    treat DEST as a normal file\n",
      "  -u, --update                 move only when the SOURCE file is newer\n",
      "                                 than the destination file or when the\n",
      "                                 destination file is missing\n",
      "  -v, --verbose                explain what is being done\n",
      "  -Z, --context                set SELinux security context of destination\n",
      "                                 file to default type\n",
      "      --help     display this help and exit\n",
      "      --version  output version information and exit\n",
      "\n",
      "The backup suffix is '~', unless set with --suffix or SIMPLE_BACKUP_SUFFIX.\n",
      "The version control method may be selected via the --backup option or through\n",
      "the VERSION_CONTROL environment variable.  Here are the values:\n",
      "\n",
      "  none, off       never make backups (even if --backup is given)\n",
      "  numbered, t     make numbered backups\n",
      "  existing, nil   numbered if numbered backups exist, simple otherwise\n",
      "  simple, never   always make simple backups\n",
      "\n",
      "GNU coreutils online help: <http://www.gnu.org/software/coreutils/>\n",
      "Full documentation at: <http://www.gnu.org/software/coreutils/mv>\n",
      "or available locally via: info '(coreutils) mv invocation'\n"
     ]
    }
   ],
   "source": [
    "!mv /g/\"My Drive\"/1078_S1_L001_R1_001.fastq.gz ../data/"
   ]
  }
 ],
 "metadata": {
  "kernelspec": {
   "display_name": "Python 3",
   "language": "python",
   "name": "python3"
  },
  "language_info": {
   "codemirror_mode": {
    "name": "ipython",
    "version": 3
   },
   "file_extension": ".py",
   "mimetype": "text/x-python",
   "name": "python",
   "nbconvert_exporter": "python",
   "pygments_lexer": "ipython3",
   "version": "3.7.0"
  }
 },
 "nbformat": 4,
 "nbformat_minor": 2
}
