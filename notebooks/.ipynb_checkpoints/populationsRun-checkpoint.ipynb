{
 "cells": [
  {
   "cell_type": "markdown",
   "metadata": {},
   "source": [
    "This the notebook I used to run `tsv2bam`, `gstacks`, and `populations`, in order to get a fasta output of aligned data."
   ]
  },
  {
   "cell_type": "markdown",
   "metadata": {},
   "source": [
    "Check that directory is in proper format for running `tsv2bam`"
   ]
  },
  {
   "cell_type": "code",
   "execution_count": 3,
   "metadata": {},
   "outputs": [
    {
     "name": "stdout",
     "output_type": "stream",
     "text": [
      "Ajordan521-cap.alleles.tsv.gz\r\n",
      "Ajordan521-cap.matches.tsv.gz\r\n",
      "Ajordan521-cap.snps.tsv.gz\r\n",
      "Ajordan521-cap.tags.tsv.gz\r\n"
     ]
    }
   ],
   "source": [
    "! ls stacks/ | head -n 4"
   ]
  },
  {
   "cell_type": "code",
   "execution_count": 19,
   "metadata": {},
   "outputs": [
    {
     "name": "stdout",
     "output_type": "stream",
     "text": [
      "Logging to './stacks/tsv2bam.log'.\n",
      "Configuration for this run:\n",
      "  Stacks directory: './stacks/'\n",
      "  Num. samples: 1\n",
      "\n",
      "Loading the catalog...\n",
      "Processing sample 'Lflorae666-cap'...\n"
     ]
    },
    {
     "name": "stderr",
     "output_type": "stream",
     "text": [
      "tsv2bam: src/tsv2bam.cc:247: void run(const std::vector<int>&, const string&, const std::unordered_map<int, long unsigned int>&, std::size_t, std::ostream&): Assertion `sloc->len <= cloc_len' failed.\n",
      "bash: line 1: 34659 Aborted                 (core dumped) tsv2bam -P ./stacks/ -s Lflorae666-cap\n"
     ]
    }
   ],
   "source": [
    "%%bash\n",
    "tsv2bam -P ./stacks/ -s Lflorae666-cap"
   ]
  },
  {
   "cell_type": "code",
   "execution_count": 7,
   "metadata": {
    "scrolled": true
   },
   "outputs": [
    {
     "name": "stdout",
     "output_type": "stream",
     "text": [
      "Logging to './stacks/populations.log'.\n",
      "Locus/sample distributions will be written to './stacks/populations.log.distribs'.\n",
      "populations parameters selected:\n",
      "  Percent samples limit per population: 0.5\n",
      "  Locus Population limit: 20\n",
      "  Log liklihood filtering: off; threshold: 0\n",
      "  Minor allele frequency cutoff: 0\n",
      "  Maximum observed heterozygosity cutoff: 1\n",
      "  Applying Fst correction: none.\n",
      "  Pi/Fis kernel smoothing: on\n",
      "  Fstats kernel smoothing: on\n",
      "  Bootstrap resampling: off\n",
      "\n",
      "Parsing population map...\n",
      "The population map contained 44 samples, 28 population(s), 1 group(s).\n"
     ]
    },
    {
     "name": "stderr",
     "output_type": "stream",
     "text": [
      "Failed to open gzipped file './stacks/catalog.fa.gz': No such file or directory.\n"
     ]
    }
   ],
   "source": [
    "%%bash\n",
    "populations -P ./stacks/ -M ./sampleI/popmap.txt -k -p 20 -r 0.5 -t 36 --fasta"
   ]
  },
  {
   "cell_type": "code",
   "execution_count": 1,
   "metadata": {},
   "outputs": [
    {
     "name": "stdout",
     "output_type": "stream",
     "text": [
      "populations 2.2\n",
      "Usage:\n",
      "populations -P dir [-O dir] [-M popmap] (filters) [--fstats] [-k [--sigma=150000] [--bootstrap [-N 100]]] (output formats)\n",
      "populations -V vcf -O dir [-M popmap] (filters) [--fstats] [-k [--sigma=150000] [--bootstrap [-N 100]]] (output formats)\n",
      "\n",
      "  -P,--in_path: path to a directory containing GStacks ouput files.\n",
      "  -V,--in_vcf: path to a standalone input VCF file.\n",
      "  -O,--out_path: path to a directory where to write the output files. (Required by -V; otherwise defaults to value of -P.)\n",
      "  -M,--popmap: path to a population map. (Format is 'SAMPLE1 \\t POP1 \\n SAMPLE2 ...'.)\n",
      "  -t,--threads: number of threads to run in parallel sections of code.\n",
      "  --batch_size [int]: the number of loci to process in a batch (default: 10,000 in de novo mode; in reference mode, one chromosome\n",
      "                      per batch). Increase to speed analysis, uses more memory, decrease to save memory).\n",
      "\n",
      "Data Filtering:\n",
      "  -p [int]: minimum number of populations a locus must be present in to process a locus.\n",
      "  -r [float]: minimum percentage of individuals in a population required to process a locus for that population.\n",
      "  --min_maf [float]: specify a minimum minor allele frequency required to process a nucleotide site at a locus (0 < min_maf < 0.5).\n",
      "  --min_mac [int]: specify a minimum minor allele count required to process a nucleotide site at a locus.\n",
      "  --max_obs_het [float]: specify a maximum observed heterozygosity required to process a nucleotide site at a locus.\n",
      "  --lnl_lim [float]: filter loci with log likelihood values below this threshold.\n",
      "  --write_single_snp: restrict data analysis to only the first SNP per locus (implies --no-haps).\n",
      "  --write_random_snp: restrict data analysis to one random SNP per locus (implies --no-haps).\n",
      "  -B: path to a file containing Blacklisted markers to be excluded from the export.\n",
      "  -W: path to a file containing Whitelisted markers to include in the export.\n",
      "\n",
      "Merging and Phasing:\n",
      "  -e,--renz: restriction enzyme name.\n",
      "  --merge_sites: merge loci that were produced from the same restriction enzyme cutsite (requires reference-aligned data).\n",
      "  --merge_prune_lim: when merging adjacent loci, if at least X% samples posses both loci prune the remaining samples out of the analysis.\n",
      "\n",
      "Locus stats:\n",
      "  --hwe: calculate divergence from Hardy-Weinberg equilibrium for each locus.\n",
      "\n",
      "Fstats:\n",
      "  --fstats: enable SNP and haplotype-based F statistics.\n",
      "  --fst_correction: specify a correction to be applied to Fst values: 'p_value', 'bonferroni_win', or 'bonferroni_gen'. Default: off.\n",
      "  --p_value_cutoff [float]: maximum p-value to keep an Fst measurement. Default: 0.05. (Also used as base for Bonferroni correction.)\n",
      "\n",
      "Kernel-smoothing algorithm:\n",
      "  -k,--smooth: enable kernel-smoothed Pi, Fis, Fst, Fst', and Phi_st calculations.\n",
      "  --smooth_fstats: enable kernel-smoothed Fst, Fst', and Phi_st calculations.\n",
      "  --smooth_popstats: enable kernel-smoothed Pi and Fis calculations.\n",
      "    (Note: turning on smoothing implies --ordered_export.)\n",
      "  --sigma [int]: standard deviation of the kernel smoothing weight distribution. Default 150kb.\n",
      "  --bootstrap: turn on boostrap resampling for all smoothed statistics.\n",
      "  -N,--bootstrap_reps [int]: number of bootstrap resamplings to calculate (default 100).\n",
      "  --bootstrap_pifis: turn on boostrap resampling for smoothed SNP-based Pi and Fis calculations.\n",
      "  --bootstrap_fst: turn on boostrap resampling for smoothed Fst calculations based on pairwise population comparison of SNPs.\n",
      "  --bootstrap_div: turn on boostrap resampling for smoothed haplotype diveristy and gene diversity calculations based on haplotypes.\n",
      "  --bootstrap_phist: turn on boostrap resampling for smoothed Phi_st calculations based on haplotypes.\n",
      "  --bootstrap_wl [path]: only bootstrap loci contained in this whitelist.\n",
      "\n",
      "File output options:\n",
      "  --ordered_export: if data is reference aligned, exports will be ordered; only a single representative of each overlapping site.\n",
      "  --fasta_loci: output locus consensus sequences in FASTA format.\n",
      "  --fasta_samples: output the sequences of the two haplotypes of each (diploid) sample, for each locus, in FASTA format.\n",
      "  --vcf: output SNPs and haplotypes in Variant Call Format (VCF).\n",
      "  --genepop: output SNPs and haplotypes in GenePop format.\n",
      "  --structure: output results in Structure format.\n",
      "  --radpainter: output results in fineRADstructure/RADpainter format.\n",
      "  --phase*: output genotypes in PHASE format.\n",
      "  --fastphase*: output genotypes in fastPHASE format.\n",
      "  --plink: output genotypes in PLINK format.\n",
      "  --hzar*: output genotypes in Hybrid Zone Analysis using R (HZAR) format.\n",
      "  --phylip: output nucleotides that are fixed-within, and variant among populations in Phylip format for phylogenetic tree construction.\n",
      "  --phylip_var: include variable sites in the phylip output encoded using IUPAC notation.\n",
      "  --phylip_var_all*: include all sequence as well as variable sites in the phylip output encoded using IUPAC notation.\n",
      "  --treemix*: output SNPs in a format useable for the TreeMix program (Pickrell and Pritchard).\n",
      "  --no_hap_exports: omit haplotype outputs.\n",
      "  --fasta_samples_raw: output all haplotypes observed in each sample, for each locus, in FASTA format.\n",
      "  (*not implemented as of v2.0Beta7)\n",
      "\n",
      "Additional options:\n",
      "  -h,--help: display this help messsage.\n",
      "  -v,--version: print program version.\n",
      "  --verbose: turn on additional logging.\n",
      "  --log_fst_comp: log components of Fst/Phi_st calculations to a file.\n"
     ]
    }
   ],
   "source": [
    "%%bash\n",
    "populations -h"
   ]
  }
 ],
 "metadata": {
  "kernelspec": {
   "display_name": "Python 3",
   "language": "python",
   "name": "python3"
  },
  "language_info": {
   "codemirror_mode": {
    "name": "ipython",
    "version": 3
   },
   "file_extension": ".py",
   "mimetype": "text/x-python",
   "name": "python",
   "nbconvert_exporter": "python",
   "pygments_lexer": "ipython3",
   "version": "3.7.0"
  }
 },
 "nbformat": 4,
 "nbformat_minor": 2
}
