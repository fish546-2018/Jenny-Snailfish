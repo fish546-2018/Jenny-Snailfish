{
 "cells": [
  {
   "cell_type": "markdown",
   "metadata": {},
   "source": [
    "This the notebook I used to run `tsv2bam`, `gstacks`, and `populations`, in order to get a fasta output of aligned data."
   ]
  },
  {
   "cell_type": "markdown",
   "metadata": {},
   "source": [
    "Check that directory is in proper format for running `tsv2bam`"
   ]
  },
  {
   "cell_type": "code",
   "execution_count": 3,
   "metadata": {},
   "outputs": [
    {
     "name": "stdout",
     "output_type": "stream",
     "text": [
      "Ajordan521-cap.alleles.tsv.gz\r\n",
      "Ajordan521-cap.matches.tsv.gz\r\n",
      "Ajordan521-cap.snps.tsv.gz\r\n",
      "Ajordan521-cap.tags.tsv.gz\r\n"
     ]
    }
   ],
   "source": [
    "! ls stacks/ | head -n 4"
   ]
  },
  {
   "cell_type": "code",
   "execution_count": 16,
   "metadata": {},
   "outputs": [
    {
     "name": "stdout",
     "output_type": "stream",
     "text": [
      "Logging to './stacks/tsv2bam.log'.\n",
      "Configuration for this run:\n",
      "  Stacks directory: './stacks/'\n",
      "  Num. samples: 44\n",
      "\n",
      "Loading the catalog...\n",
      "Processing sample 'Ebritti822-cap'...\n"
     ]
    },
    {
     "name": "stderr",
     "output_type": "stream",
     "text": [
      "Aborted. (_Map_base::at)\n"
     ]
    }
   ],
   "source": [
    "%%bash\n",
    "bash run_tsv2bam_jg.sh"
   ]
  },
  {
   "cell_type": "code",
   "execution_count": 18,
   "metadata": {},
   "outputs": [
    {
     "name": "stdout",
     "output_type": "stream",
     "text": [
      "Logging to './stacks/tsv2bam.log'.\n",
      "Configuration for this run:\n",
      "  Stacks directory: './stacks/'\n",
      "  Num. samples: 1\n",
      "\n",
      "Loading the catalog...\n",
      "Processing sample 'Ajordan521-cap'...\n"
     ]
    },
    {
     "name": "stderr",
     "output_type": "stream",
     "text": [
      "tsv2bam: src/tsv2bam.cc:247: void run(const std::vector<int>&, const string&, const std::unordered_map<int, long unsigned int>&, std::size_t, std::ostream&): Assertion `sloc->len <= cloc_len' failed.\n",
      "bash: line 1: 34627 Aborted                 (core dumped) tsv2bam -P ./stacks/ -s Ajordan521-cap\n"
     ]
    }
   ],
   "source": [
    "%%bash\n",
    "tsv2bam -P ./stacks/ -s Ajordan521-cap"
   ]
  },
  {
   "cell_type": "code",
   "execution_count": 7,
   "metadata": {},
   "outputs": [
    {
     "name": "stdout",
     "output_type": "stream",
     "text": [
      "Logging to './stacks/populations.log'.\n",
      "Locus/sample distributions will be written to './stacks/populations.log.distribs'.\n",
      "populations parameters selected:\n",
      "  Percent samples limit per population: 0.5\n",
      "  Locus Population limit: 20\n",
      "  Log liklihood filtering: off; threshold: 0\n",
      "  Minor allele frequency cutoff: 0\n",
      "  Maximum observed heterozygosity cutoff: 1\n",
      "  Applying Fst correction: none.\n",
      "  Pi/Fis kernel smoothing: on\n",
      "  Fstats kernel smoothing: on\n",
      "  Bootstrap resampling: off\n",
      "\n",
      "Parsing population map...\n",
      "The population map contained 44 samples, 28 population(s), 1 group(s).\n"
     ]
    },
    {
     "name": "stderr",
     "output_type": "stream",
     "text": [
      "Failed to open gzipped file './stacks/catalog.fa.gz': No such file or directory.\n"
     ]
    }
   ],
   "source": [
    "%%bash\n",
    "populations -P ./stacks/ -M ./sampleI/popmap.txt -k -p 20 -r 0.5 -t 36 --fasta"
   ]
  }
 ],
 "metadata": {
  "kernelspec": {
   "display_name": "Python 3",
   "language": "python",
   "name": "python3"
  },
  "language_info": {
   "codemirror_mode": {
    "name": "ipython",
    "version": 3
   },
   "file_extension": ".py",
   "mimetype": "text/x-python",
   "name": "python",
   "nbconvert_exporter": "python",
   "pygments_lexer": "ipython3",
   "version": "3.7.0"
  }
 },
 "nbformat": 4,
 "nbformat_minor": 2
}
