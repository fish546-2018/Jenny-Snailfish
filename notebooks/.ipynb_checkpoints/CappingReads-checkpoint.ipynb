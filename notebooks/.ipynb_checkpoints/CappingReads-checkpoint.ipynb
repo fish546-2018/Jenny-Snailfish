{
 "cells": [
  {
   "cell_type": "markdown",
   "metadata": {},
   "source": [
    "This notebook is my test for how I can cap the number of reads in each of my demultiplexed files. The assumption was made that reads are random."
   ]
  },
  {
   "cell_type": "markdown",
   "metadata": {},
   "source": [
    "This code should work for printing only certain lines from a file\n",
    "awk 'NR>=2&&<20' input.txt"
   ]
  },
  {
   "cell_type": "code",
   "execution_count": 1,
   "metadata": {},
   "outputs": [
    {
     "name": "stdout",
     "output_type": "stream",
     "text": [
      "process_radtags v2.2, executed 2018-11-28 11:51:38\r\n",
      "process_radtags -f ./1078_S1_L001_R1_001.fastq.gz -i gzfastq -o ./sample1 -b ./barcodes_snailfish.txt -e sbfI -r -c -q -t 94\r\n",
      "File\tRetained Reads\tLow Quality\tBarcode Not Found\tRAD cutsite Not Found\tTotal\r\n",
      "1078_S1_L001_R1_001.fastq.gz\t342799353\t3213028\t28096060\t14282385\t388390826\r\n",
      "\r\n",
      "Total Sequences\t388390826\r\n",
      "Barcode Not Found\t28096060\r\n",
      "Low Quality\t3213028\r\n",
      "RAD Cutsite Not Found\t14282385\r\n",
      "Retained Reads\t342799353\r\n",
      "\r\n",
      "Barcode\tFilename\tTotal\tNoRadTag\tLowQuality\tRetained\r\n",
      "AAACGG\tEbritti822\t13727927\t302049\t125008\t13300870\r\n",
      "GCCGTA\tLferxi9829\t10949797\t232121\t99188\t10618488\r\n",
      "ACTCTT\tPulochir76\t1954273\t271903\t15281\t1667089\r\n",
      "TTCTAG\tAjordani86\t2389430\t200402\t19918\t2169110\r\n",
      "ATTCCG\tLrutteri56\t735557\t264743\t4257\t466557\r\n",
      "CCGCAT\tEcaudatus2\t8240813\t289587\t72943\t7878283\r\n",
      "CGAGGC\tPdactyl08\t287661\t159630\t1111\t126920\r\n",
      "CGCAGA\tCcandidus\t4444729\t250621\t38948\t4155160\r\n",
      "GAGAGA\tEcaudatus3\t1684429\t229502\t13300\t1441627\r\n",
      "GGGGCG\tCcfcypselur\t5023686\t594224\t41268\t4388194\r\n",
      "TAATTC\tPdactyl51\t39188235\t349831\t360070\t38478334\r\n",
      "TTTAAT\tCcfmelanu2\t2730773\t266855\t22787\t2441131\r\n",
      "AGCCAT\tLnanus2476\t6933635\t439626\t60232\t6433777\r\n",
      "AGTAGG\tCrystall87\t431039\t213103\t2057\t215879\r\n",
      "ATAGTA\tCbowersian\t141590\t138961\t32\t2597\r\n",
      "CGGTCC\tCscottae04\t7931555\t168940\t72257\t7690358\r\n",
      "CCATTT\tCstauffe11\t186546\t166100\t153\t20293\r\n",
      "CAGGCA\tAjordani89\t5546915\t217631\t50298\t5278986\r\n",
      "GCAGAT\tAjordan521\t14772386\t286327\t135905\t14350154\r\n",
      "GTCATC\tCmelanu89\t217761\t189255\t230\t28276\r\n",
      "GACTCT\tCcomus970\t19277019\t426296\t175157\t18675566\r\n",
      "TATCAC\tEorbis821\t26020656\t320939\t238602\t25461115\r\n",
      "TGGGGA\tEcaudatus4\t32693858\t674661\t298364\t31720833\r\n",
      "TCTCGG\tCmelanu88\t1633867\t178004\t13249\t1442614\r\n",
      "TGACAA\tLflorae666\t11928307\t326069\t109400\t11492838\r\n",
      "AATATC\tAjordan522\t5603619\t333081\t49069\t5221469\r\n",
      "ACAGCG\tPptychoman\t8089326\t218429\t73769\t7797128\r\n",
      "GATCGT\tEcaudatus1\t2346474\t181050\t19748\t2145676\r\n",
      "GGTTTG\tCgilberti81\t8886884\t345225\t78944\t8462715\r\n",
      "CTCGCC\tNpelagicus\t15923890\t222199\t147194\t15554497\r\n",
      "GTGCCT\tCcandidu2\t366876\t119600\t2335\t244941\r\n",
      "TAGTAT\tEorbis223\t152953\t120814\t311\t31828\r\n",
      "ACAAGA\tCcomus971\t3109629\t269595\t26393\t2813641\r\n",
      "TTCCGT\tLgibbus176\t4480504\t150821\t40885\t4288798\r\n",
      "CCCTAA\tCfaunus841\t647357\t152924\t4583\t489850\r\n",
      "AGGGTC\tAungak696\t4311557\t172138\t38186\t4101233\r\n",
      "CAATCG\tCcfmelanu1\t3677069\t162057\t32591\t3482421\r\n",
      "GAACCA\tCstauffe96\t23140888\t1713566\t196386\t21230936\r\n",
      "TCGGAC\tEorbis461\t4514919\t70162\t41191\t4403566\r\n",
      "ATGTTG\tCfurcellu98\t6301973\t256189\t55750\t5990034\r\n",
      "AACTGA\tCscottae02\t6569760\t442268\t56584\t6070908\r\n",
      "TCTTCT\tCphasma07\t3771105\t305709\t32038\t3433358\r\n",
      "GGACTT\tCrystalli2\t3354725\t420560\t26685\t2907480\r\n",
      "GGGCGC\tCrystalli1\t1850885\t183764\t15307\t1651814\r\n",
      "ATCAAA\tCphasma61\t4171460\t454961\t34224\t3682275\r\n",
      "GGCAAG\tLgibbus043\t4783236\t180567\t42617\t4560052\r\n",
      "CATACT\tPpenicillu\t9500275\t423762\t83341\t8993172\r\n",
      "CGCGTG\tRattenuatu\t15666958\t225564\t144882\t15296512\r\n",
      "\r\n"
     ]
    }
   ],
   "source": [
    "! head -n 61 sample1/process_radtags.data.log"
   ]
  },
  {
   "cell_type": "markdown",
   "metadata": {},
   "source": [
    "Make a file that is just the retained reads table using `awk`"
   ]
  },
  {
   "cell_type": "code",
   "execution_count": 68,
   "metadata": {},
   "outputs": [],
   "source": [
    "%%bash\n",
    "awk 'NR>=12&&NR<61' sample1/process_radtags.data.log > retainedreads.txt"
   ]
  },
  {
   "cell_type": "markdown",
   "metadata": {},
   "source": [
    "Check the minimum value in the retained colum"
   ]
  },
  {
   "cell_type": "code",
   "execution_count": 73,
   "metadata": {},
   "outputs": [
    {
     "name": "stdout",
     "output_type": "stream",
     "text": [
      "2597\n"
     ]
    }
   ],
   "source": [
    "%%bash\n",
    "awk 'BEGIN{a=10000000}{if ($6<0+a) a=$6 fi} END{print a}' retainedreads.txt"
   ]
  },
  {
   "cell_type": "markdown",
   "metadata": {},
   "source": [
    "Check the maximum value in the retained colum"
   ]
  },
  {
   "cell_type": "code",
   "execution_count": 75,
   "metadata": {},
   "outputs": [
    {
     "name": "stdout",
     "output_type": "stream",
     "text": [
      "38478334\n"
     ]
    }
   ],
   "source": [
    "%%bash\n",
    "awk 'BEGIN{a=0}{if ($6>0+a) a=$6 fi} END{print a}' retainedreads.txt"
   ]
  },
  {
   "cell_type": "markdown",
   "metadata": {},
   "source": [
    "Determine the minimum value of reads for file with more than 2,000,000 retained reads"
   ]
  },
  {
   "cell_type": "code",
   "execution_count": 77,
   "metadata": {},
   "outputs": [
    {
     "name": "stdout",
     "output_type": "stream",
     "text": [
      "2145676\n"
     ]
    }
   ],
   "source": [
    "%%bash\n",
    "awk '$6>2000000' retainedreads.txt | awk 'BEGIN{a=10000000}{if ($6<0+a) a=$6 fi} END{print a}'"
   ]
  },
  {
   "cell_type": "code",
   "execution_count": 79,
   "metadata": {},
   "outputs": [
    {
     "name": "stdout",
     "output_type": "stream",
     "text": [
      "72838\n"
     ]
    }
   ],
   "source": [
    "%%bash\n",
    "echo '145676/2' | bc"
   ]
  },
  {
   "cell_type": "markdown",
   "metadata": {},
   "source": [
    "We will remove the first 72,838 reads from each file and then save the next 2,000,000. We need to multiple this number by 4 to see which line of a fastq file to go to"
   ]
  },
  {
   "cell_type": "code",
   "execution_count": 80,
   "metadata": {},
   "outputs": [
    {
     "name": "stdout",
     "output_type": "stream",
     "text": [
      "291352\n"
     ]
    }
   ],
   "source": [
    "%%bash\n",
    "echo '72838*4' | bc"
   ]
  },
  {
   "cell_type": "markdown",
   "metadata": {},
   "source": [
    "Testing that cutting at line 291352 will give us a full read"
   ]
  },
  {
   "cell_type": "code",
   "execution_count": null,
   "metadata": {},
   "outputs": [],
   "source": [
    "%%bash\n",
    "zcat sample1/manyreads/Ecaudatus4.fq.gz | awk 'NR=291353'"
   ]
  },
  {
   "cell_type": "code",
   "execution_count": 30,
   "metadata": {},
   "outputs": [
    {
     "name": "stdout",
     "output_type": "stream",
     "text": [
      "28276\r\n"
     ]
    }
   ],
   "source": [
    "#!/bin/bash\n",
    "set -e\n",
    "set -u\n",
    "set -o pipefail\n",
    "filelist=$(find sample1/ -maxdepth 1 -name \"*.gz\")\n",
    "for file in ${filelist}\n",
    "do\n",
    "  rdtest=$(zcat ${file} | echo $((`wc -l`/4)))\n",
    "if test $rdtest -le 100000\n",
    "  then\n",
    "    cp ${file} sample1/fewreads \n",
    "  else\n",
    "    cp ${file} sample1/manyreads\n",
    "  fi\n",
    "done"
   ]
  },
  {
   "cell_type": "code",
   "execution_count": 64,
   "metadata": {},
   "outputs": [
    {
     "name": "stderr",
     "output_type": "stream",
     "text": [
      "bash: line 1: seqtk: command not found\n"
     ]
    }
   ],
   "source": [
    "%%bash\n",
    "seqtk -h"
   ]
  }
 ],
 "metadata": {
  "kernelspec": {
   "display_name": "Python 3",
   "language": "python",
   "name": "python3"
  },
  "language_info": {
   "codemirror_mode": {
    "name": "ipython",
    "version": 3
   },
   "file_extension": ".py",
   "mimetype": "text/x-python",
   "name": "python",
   "nbconvert_exporter": "python",
   "pygments_lexer": "ipython3",
   "version": "3.7.0"
  }
 },
 "nbformat": 4,
 "nbformat_minor": 2
}
