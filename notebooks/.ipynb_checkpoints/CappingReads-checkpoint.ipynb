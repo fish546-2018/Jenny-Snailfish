{
 "cells": [
  {
   "cell_type": "markdown",
   "metadata": {},
   "source": [
    "# Filtering and Capping by Read Number"
   ]
  },
  {
   "cell_type": "markdown",
   "metadata": {},
   "source": [
    "This notebook is how I filtered out files with too few reads and capped those with too many. I decided to pick 2,000,000 reads from the middle of the fastq files that are capped based on the idea that reads close to the beginning or end may not be as good as those in the middle."
   ]
  },
  {
   "cell_type": "markdown",
   "metadata": {},
   "source": [
    "## Step 1: Get just a reads retained file"
   ]
  },
  {
   "cell_type": "code",
   "execution_count": 2,
   "metadata": {},
   "outputs": [
    {
     "name": "stdout",
     "output_type": "stream",
     "text": [
      "process_radtags v2.2, executed 2018-11-29 11:56:38\r\n",
      "process_radtags -f ./1078_S1_L001_R1_001.fastq.gz -i gzfastq -o ./sampleI -b ./barcodes_snailfish.txt -e sbfI -r -c -q -t 125\r\n",
      "File\tRetained Reads\tLow Quality\tBarcode Not Found\tRAD cutsite Not Found\tTotal\r\n",
      "1078_S1_L001_R1_001.fastq.gz\t342314608\t3697773\t28096060\t14282385\t388390826\r\n",
      "\r\n",
      "Total Sequences\t388390826\r\n",
      "Barcode Not Found\t28096060\r\n",
      "Low Quality\t3697773\r\n",
      "RAD Cutsite Not Found\t14282385\r\n",
      "Retained Reads\t342314608\r\n",
      "\r\n",
      "Barcode\tFilename\tTotal\tNoRadTag\tLowQuality\tRetained\r\n",
      "AAACGG\tEbritti822\t13727927\t302049\t139085\t13286793\r\n",
      "GCCGTA\tLferxi9829\t10949797\t232121\t113442\t10604234\r\n",
      "ACTCTT\tPulochir76\t1954273\t271903\t17745\t1664625\r\n",
      "TTCTAG\tAjordani86\t2389430\t200402\t22765\t2166263\r\n",
      "ATTCCG\tLrutteri56\t735557\t264743\t5160\t465654\r\n",
      "CCGCAT\tEcaudatus2\t8240813\t289587\t84529\t7866697\r\n",
      "CGAGGC\tPdactyl08\t287661\t159630\t1312\t126719\r\n",
      "CGCAGA\tCcandidus\t4444729\t250621\t43987\t4150121\r\n",
      "GAGAGA\tEcaudatus3\t1684429\t229502\t15213\t1439714\r\n",
      "GGGGCG\tCcfcypselur\t5023686\t594224\t47964\t4381498\r\n",
      "TAATTC\tPdactyl51\t39188235\t349831\t413074\t38425330\r\n",
      "TTTAAT\tCcfmelanu2\t2730773\t266855\t25576\t2438342\r\n",
      "AGCCAT\tLnanus2476\t6933635\t439626\t68879\t6425130\r\n",
      "AGTAGG\tCrystall87\t431039\t213103\t2289\t215647\r\n",
      "ATAGTA\tCbowersian\t141590\t138961\t37\t2592\r\n",
      "CGGTCC\tCscottae04\t7931555\t168940\t82825\t7679790\r\n",
      "CCATTT\tCstauffe11\t186546\t166100\t182\t20264\r\n",
      "CAGGCA\tAjordani89\t5546915\t217631\t57179\t5272105\r\n",
      "GCAGAT\tAjordan521\t14772386\t286327\t156496\t14329563\r\n",
      "GTCATC\tCmelanu89\t217761\t189255\t270\t28236\r\n",
      "GACTCT\tCcomus970\t19277019\t426296\t198597\t18652126\r\n",
      "TATCAC\tEorbis821\t26020656\t320939\t268075\t25431642\r\n",
      "TGGGGA\tEcaudatus4\t32693858\t674661\t344377\t31674820\r\n",
      "TCTCGG\tCmelanu88\t1633867\t178004\t15805\t1440058\r\n",
      "TGACAA\tLflorae666\t11928307\t326069\t126516\t11475722\r\n",
      "AATATC\tAjordan522\t5603619\t333081\t56475\t5214063\r\n",
      "ACAGCG\tPptychoman\t8089326\t218429\t84933\t7785964\r\n",
      "GATCGT\tEcaudatus1\t2346474\t181050\t22853\t2142571\r\n",
      "GGTTTG\tCgilberti81\t8886884\t345225\t90132\t8451527\r\n",
      "CTCGCC\tNpelagicus\t15923890\t222199\t172959\t15528732\r\n",
      "GTGCCT\tCcandidu2\t366876\t119600\t2666\t244610\r\n",
      "TAGTAT\tEorbis223\t152953\t120814\t359\t31780\r\n",
      "ACAAGA\tCcomus971\t3109629\t269595\t30032\t2810002\r\n",
      "TTCCGT\tLgibbus176\t4480504\t150821\t47210\t4282473\r\n",
      "CCCTAA\tCfaunus841\t647357\t152924\t5258\t489175\r\n",
      "AGGGTC\tAungak696\t4311557\t172138\t44540\t4094879\r\n",
      "CAATCG\tCcfmelanu1\t3677069\t162057\t38719\t3476293\r\n",
      "GAACCA\tCstauffe96\t23140888\t1713566\t232858\t21194464\r\n",
      "TCGGAC\tEorbis461\t4514919\t70162\t46572\t4398185\r\n",
      "ATGTTG\tCfurcellu98\t6301973\t256189\t65336\t5980448\r\n",
      "AACTGA\tCscottae02\t6569760\t442268\t65501\t6061991\r\n",
      "TCTTCT\tCphasma07\t3771105\t305709\t37044\t3428352\r\n",
      "GGACTT\tCrystalli2\t3354725\t420560\t31146\t2903019\r\n",
      "GGGCGC\tCrystalli1\t1850885\t183764\t17765\t1649356\r\n",
      "ATCAAA\tCphasma61\t4171460\t454961\t39475\t3677024\r\n",
      "GGCAAG\tLgibbus043\t4783236\t180567\t49810\t4552859\r\n",
      "CATACT\tPpenicillu\t9500275\t423762\t101353\t8975160\r\n",
      "CGCGTG\tRattenuatu\t15666958\t225564\t163398\t15277996\r\n",
      "\r\n",
      "Sequences not recorded\r\n",
      "Barcode\tTotal\r\n"
     ]
    }
   ],
   "source": [
    "! head -n 63 sampleI/process_radtags.data.log"
   ]
  },
  {
   "cell_type": "markdown",
   "metadata": {},
   "source": [
    "Make a file that is just the retained reads table using `awk`"
   ]
  },
  {
   "cell_type": "code",
   "execution_count": 34,
   "metadata": {},
   "outputs": [],
   "source": [
    "%%bash\n",
    "awk 'NR>=13&&NR<61' sampleI/process_radtags.data.log > sampleI/Iretainedreads.txt"
   ]
  },
  {
   "cell_type": "markdown",
   "metadata": {},
   "source": [
    "## Step 2: Check minimum and maximum values of reads "
   ]
  },
  {
   "cell_type": "markdown",
   "metadata": {},
   "source": [
    "Check the minimum value in the retained colum"
   ]
  },
  {
   "cell_type": "code",
   "execution_count": 35,
   "metadata": {},
   "outputs": [
    {
     "name": "stdout",
     "output_type": "stream",
     "text": [
      "2592\n"
     ]
    }
   ],
   "source": [
    "%%bash\n",
    "awk 'BEGIN{a=10000000}{if ($6<0+a) a=$6 fi} END{print a}' sampleI/Iretainedreads.txt"
   ]
  },
  {
   "cell_type": "markdown",
   "metadata": {},
   "source": [
    "Check the maximum value in the retained colum"
   ]
  },
  {
   "cell_type": "code",
   "execution_count": 36,
   "metadata": {},
   "outputs": [
    {
     "name": "stdout",
     "output_type": "stream",
     "text": [
      "38425330\n"
     ]
    }
   ],
   "source": [
    "%%bash\n",
    "awk 'BEGIN{a=0}{if ($6>0+a) a=$6 fi} END{print a}' sampleI/Iretainedreads.txt"
   ]
  },
  {
   "cell_type": "markdown",
   "metadata": {},
   "source": [
    "## Step 3: Rearrange files by read number"
   ]
  },
  {
   "cell_type": "markdown",
   "metadata": {},
   "source": [
    "First rearrange the files into directories based on ones with under 100,000 reads (exclude), ones with between 100,000 and 2,000,000 reads (include) and ones with over 2,000,000 reads (cap)."
   ]
  },
  {
   "cell_type": "code",
   "execution_count": 39,
   "metadata": {},
   "outputs": [],
   "source": [
    "! mkdir sampleI/exclude"
   ]
  },
  {
   "cell_type": "code",
   "execution_count": 40,
   "metadata": {},
   "outputs": [],
   "source": [
    "! ls sampleI/exclude/"
   ]
  },
  {
   "cell_type": "code",
   "execution_count": 41,
   "metadata": {
    "scrolled": true
   },
   "outputs": [],
   "source": [
    "%%bash\n",
    "awk '$6<100000 {print $2;}' sampleI/Iretainedreads.txt | xargs -I{} mv sampleI/\"{}.fq.gz\" sampleI/exclude/"
   ]
  },
  {
   "cell_type": "code",
   "execution_count": 42,
   "metadata": {},
   "outputs": [
    {
     "name": "stdout",
     "output_type": "stream",
     "text": [
      "Cbowersian.fq.gz  Cmelanu89.fq.gz  Cstauffe11.fq.gz  Eorbis223.fq.gz\r\n"
     ]
    }
   ],
   "source": [
    "! ls sampleI/exclude/"
   ]
  },
  {
   "cell_type": "code",
   "execution_count": 46,
   "metadata": {},
   "outputs": [],
   "source": [
    "! mkdir sampleI/include"
   ]
  },
  {
   "cell_type": "code",
   "execution_count": 47,
   "metadata": {},
   "outputs": [],
   "source": [
    "! ls sampleI/include/"
   ]
  },
  {
   "cell_type": "code",
   "execution_count": 48,
   "metadata": {},
   "outputs": [],
   "source": [
    "%%bash\n",
    "awk '$6>100000&&$6<2000000 {print $2;}' sampleI/Iretainedreads.txt | xargs -I{} mv sampleI/\"{}.fq.gz\" sampleI/include/"
   ]
  },
  {
   "cell_type": "code",
   "execution_count": 49,
   "metadata": {
    "scrolled": true
   },
   "outputs": [
    {
     "name": "stdout",
     "output_type": "stream",
     "text": [
      "Ccandidu2.fq.gz   Crystall87.fq.gz  Lrutteri56.fq.gz\r\n",
      "Cfaunus841.fq.gz  Crystalli1.fq.gz  Pdactyl08.fq.gz\r\n",
      "Cmelanu88.fq.gz   Ecaudatus3.fq.gz  Pulochir76.fq.gz\r\n"
     ]
    }
   ],
   "source": [
    "! ls sampleI/include/"
   ]
  },
  {
   "cell_type": "code",
   "execution_count": 50,
   "metadata": {},
   "outputs": [],
   "source": [
    "! mkdir sampleI/cap"
   ]
  },
  {
   "cell_type": "code",
   "execution_count": 51,
   "metadata": {},
   "outputs": [],
   "source": [
    "! ls sampleI/cap/"
   ]
  },
  {
   "cell_type": "code",
   "execution_count": 52,
   "metadata": {},
   "outputs": [],
   "source": [
    "%%bash\n",
    "awk '$6>2000000 {print $2;}' sampleI/Iretainedreads.txt | xargs -I{} mv sampleI/\"{}.fq.gz\" sampleI/cap/"
   ]
  },
  {
   "cell_type": "code",
   "execution_count": 53,
   "metadata": {
    "scrolled": true
   },
   "outputs": [
    {
     "name": "stdout",
     "output_type": "stream",
     "text": [
      "Ajordan521.fq.gz   Ccomus970.fq.gz    Cstauffe96.fq.gz\tLgibbus043.fq.gz\r\n",
      "Ajordan522.fq.gz   Ccomus971.fq.gz    Ebritti822.fq.gz\tLgibbus176.fq.gz\r\n",
      "Ajordani86.fq.gz   Cfurcellu98.fq.gz  Ecaudatus1.fq.gz\tLnanus2476.fq.gz\r\n",
      "Ajordani89.fq.gz   Cgilberti81.fq.gz  Ecaudatus2.fq.gz\tNpelagicus.fq.gz\r\n",
      "Aungak696.fq.gz    Cphasma07.fq.gz    Ecaudatus4.fq.gz\tPdactyl51.fq.gz\r\n",
      "Ccandidus.fq.gz    Cphasma61.fq.gz    Eorbis461.fq.gz\tPpenicillu.fq.gz\r\n",
      "Ccfcypselur.fq.gz  Crystalli2.fq.gz   Eorbis821.fq.gz\tPptychoman.fq.gz\r\n",
      "Ccfmelanu1.fq.gz   Cscottae02.fq.gz   Lferxi9829.fq.gz\tRattenuatu.fq.gz\r\n",
      "Ccfmelanu2.fq.gz   Cscottae04.fq.gz   Lflorae666.fq.gz\r\n"
     ]
    }
   ],
   "source": [
    "! ls sampleI/cap/"
   ]
  },
  {
   "cell_type": "code",
   "execution_count": 54,
   "metadata": {},
   "outputs": [
    {
     "name": "stdout",
     "output_type": "stream",
     "text": [
      "cap  exclude  include  Iretainedreads.txt  process_radtags.data.log\r\n"
     ]
    }
   ],
   "source": [
    "! ls sampleI/"
   ]
  },
  {
   "cell_type": "code",
   "execution_count": 81,
   "metadata": {},
   "outputs": [],
   "source": [
    "%%bash\n",
    "awk '$6>100000' sampleI/Iretainedreads.txt > sampleI/includedreads.txt"
   ]
  },
  {
   "cell_type": "markdown",
   "metadata": {},
   "source": [
    "Check and see if all files moved into one of the three directories. They are."
   ]
  },
  {
   "cell_type": "markdown",
   "metadata": {},
   "source": [
    "## Step 4: Cap and move those with more than 4 million reads"
   ]
  },
  {
   "cell_type": "code",
   "execution_count": 67,
   "metadata": {},
   "outputs": [
    {
     "name": "stdout",
     "output_type": "stream",
     "text": [
      "Ebritti822\n",
      "Lferxi9829\n",
      "Ecaudatus2\n",
      "Ccandidus\n",
      "Ccfcypselur\n"
     ]
    }
   ],
   "source": [
    "%%bash\n",
    "awk '$6>4000000 {print $2;}' sampleI/Iretainedreads.txt | head -n 5"
   ]
  },
  {
   "cell_type": "code",
   "execution_count": 68,
   "metadata": {
    "scrolled": true
   },
   "outputs": [
    {
     "name": "stdout",
     "output_type": "stream",
     "text": [
      "@70_1_1127_27052_2088/1\n"
     ]
    }
   ],
   "source": [
    "%%bash\n",
    "zcat sampleI/cap/Ccandidus.fq.gz | awk 'NR==4000001'"
   ]
  },
  {
   "cell_type": "markdown",
   "metadata": {},
   "source": [
    "Check that the numbers we selected save 2 million reads. Also check that the first 4 and last 4 lines comprise a full read. Lastly test the script on 1 file and double check the last 4 lines "
   ]
  },
  {
   "cell_type": "code",
   "execution_count": 70,
   "metadata": {
    "scrolled": false
   },
   "outputs": [
    {
     "name": "stdout",
     "output_type": "stream",
     "text": [
      "2000000\n"
     ]
    }
   ],
   "source": [
    "%%bash\n",
    "zcat sampleI/cap/Ccandidus.fq.gz | awk 'NR>=4000001&&NR<12000001' | echo $((`wc -l`/4))"
   ]
  },
  {
   "cell_type": "code",
   "execution_count": 94,
   "metadata": {},
   "outputs": [
    {
     "name": "stdout",
     "output_type": "stream",
     "text": [
      "@70_1_1127_27052_2088/1\n",
      "TGCAGGTCTAAAGGTCTGAGGGTAAGTAGAGATAAGATGTCATGAGATGAAGGAGCTGATCTGACATTCACCAAAGCAAGCGTCTCCGTTTCTGTCATGGTGGTGTGATTTAAGTCTGCAAACAT\n",
      "+\n",
      "JJJJJJJJJJJJJJJFJJJJJJJJJJJJJJJJJJJJJJJJJJJJJJJJJJJJJJJJFJJJJJJJJFJFJJJJJJJJJJJJJJJFJJJJJJJJJJJJJJJJFJJJJAAAJFJAJF-<FJJJFJJJF\n"
     ]
    }
   ],
   "source": [
    "%%bash\n",
    "zcat sampleI/cap/Ccandidus.fq.gz | awk 'NR>=4000001&&NR<12000001' | head -n 4"
   ]
  },
  {
   "cell_type": "code",
   "execution_count": 95,
   "metadata": {},
   "outputs": [
    {
     "name": "stdout",
     "output_type": "stream",
     "text": [
      "@70_1_2126_28544_46240/1\n",
      "TGCAGGTTTGATCCGACTGCGCTCCAGCCCGCCCCCTCACCTCCAGGGCGTGGAATACGTCCTCAATGTCACAGCGGCGGACGACAATGCCTCAGGCGGATCGCATGCTTTGTCCTCCACAGCCC\n",
      "+\n",
      "JJJ-FJJJJJFJJJJJJJJJFJJJJJJJJJJJJJJ7FJAJJJJJJJJJJJJJJFJJJJJFF<AFFAAJJJJJJJJFFJJJFJJJJFFJJAFJJ-FJJAF<7FFJJFAFJF<JAAFJ7<)A-77<)\n"
     ]
    }
   ],
   "source": [
    "%%bash\n",
    "zcat sampleI/cap/Ccandidus.fq.gz | awk 'NR>=4000001&&NR<12000001' | tail -n 4"
   ]
  },
  {
   "cell_type": "code",
   "execution_count": 104,
   "metadata": {},
   "outputs": [],
   "source": [
    "%%bash\n",
    "echo 'Ccandidus' | xargs -n 1 bash 4mil.sh"
   ]
  },
  {
   "cell_type": "code",
   "execution_count": 105,
   "metadata": {
    "scrolled": true
   },
   "outputs": [
    {
     "name": "stdout",
     "output_type": "stream",
     "text": [
      "@70_1_2126_28544_46240/1\n",
      "TGCAGGTTTGATCCGACTGCGCTCCAGCCCGCCCCCTCACCTCCAGGGCGTGGAATACGTCCTCAATGTCACAGCGGCGGACGACAATGCCTCAGGCGGATCGCATGCTTTGTCCTCCACAGCCC\n",
      "+\n",
      "JJJ-FJJJJJFJJJJJJJJJFJJJJJJJJJJJJJJ7FJAJJJJJJJJJJJJJJFJJJJJFF<AFFAAJJJJJJJJFFJJJFJJJJFFJJAFJJ-FJJAF<7FFJJFAFJF<JAAFJ7<)A-77<)\n"
     ]
    }
   ],
   "source": [
    "%%bash\n",
    "zcat sampleI/include/Ccandidus-cap.fq.gz | tail -n 4"
   ]
  },
  {
   "cell_type": "markdown",
   "metadata": {},
   "source": [
    "Now remove the sample we tested so we don't get an error if it tries to overwrite then run the script on all files"
   ]
  },
  {
   "cell_type": "code",
   "execution_count": 106,
   "metadata": {},
   "outputs": [],
   "source": [
    "! rm sampleI/include/Ccandidus-cap.fq.gz"
   ]
  },
  {
   "cell_type": "code",
   "execution_count": 107,
   "metadata": {},
   "outputs": [],
   "source": [
    "%%bash\n",
    "awk '$6>4000000 {print $2;}' sampleI/includedreads.txt | \\\n",
    "xargs -n 1 bash 4mil.sh"
   ]
  },
  {
   "cell_type": "markdown",
   "metadata": {},
   "source": [
    "Check that the correct number of capped files got transferred"
   ]
  },
  {
   "cell_type": "code",
   "execution_count": 108,
   "metadata": {
    "scrolled": true
   },
   "outputs": [
    {
     "name": "stdout",
     "output_type": "stream",
     "text": [
      "27\n"
     ]
    }
   ],
   "source": [
    "%%bash\n",
    "awk '$6>4000000 {print $2;}' sampleI/includedreads.txt | wc -l"
   ]
  },
  {
   "cell_type": "code",
   "execution_count": 109,
   "metadata": {},
   "outputs": [
    {
     "name": "stdout",
     "output_type": "stream",
     "text": [
      "27\n"
     ]
    }
   ],
   "source": [
    "%%bash\n",
    "find sampleI/include/ -name \"*-cap.fq.gz\" | wc -l "
   ]
  },
  {
   "cell_type": "markdown",
   "metadata": {},
   "source": [
    "Check number of reads for random capped file"
   ]
  },
  {
   "cell_type": "code",
   "execution_count": 111,
   "metadata": {
    "scrolled": true
   },
   "outputs": [
    {
     "name": "stdout",
     "output_type": "stream",
     "text": [
      "2000000\n"
     ]
    }
   ],
   "source": [
    "%%bash\n",
    "zcat sampleI/include/Ajordan521-cap.fq.gz | echo $((`wc -l`/4))"
   ]
  },
  {
   "cell_type": "markdown",
   "metadata": {},
   "source": [
    "It worked!"
   ]
  },
  {
   "cell_type": "markdown",
   "metadata": {},
   "source": [
    "## Step 5: Cap and move those with 2-4 million reads"
   ]
  },
  {
   "cell_type": "markdown",
   "metadata": {},
   "source": [
    "Get list of specimens with fewer than 4,000,000 reads. For these we will take the middle 2 million reads. (Those greater than 4,000,000 we'll discard the first million and then keep the next 2 million. 4 mil guarantees we have a nice buffer before the end) "
   ]
  },
  {
   "cell_type": "code",
   "execution_count": 58,
   "metadata": {
    "scrolled": false
   },
   "outputs": [],
   "source": [
    "%%bash\n",
    "awk '$6>2000000&&$6<4000000' sampleI/Iretainedreads.txt > sampleI/cap/twotofourmil.txt"
   ]
  },
  {
   "cell_type": "code",
   "execution_count": 135,
   "metadata": {
    "scrolled": true
   },
   "outputs": [
    {
     "name": "stdout",
     "output_type": "stream",
     "text": [
      "TTCTAG\tAjordani86\t2389430\t200402\t22765\t2166263\n",
      "TTTAAT\tCcfmelanu2\t2730773\t266855\t25576\t2438342\n",
      "GATCGT\tEcaudatus1\t2346474\t181050\t22853\t2142571\n",
      "ACAAGA\tCcomus971\t3109629\t269595\t30032\t2810002\n",
      "CAATCG\tCcfmelanu1\t3677069\t162057\t38719\t3476293\n",
      "TCTTCT\tCphasma07\t3771105\t305709\t37044\t3428352\n",
      "GGACTT\tCrystalli2\t3354725\t420560\t31146\t2903019\n",
      "ATCAAA\tCphasma61\t4171460\t454961\t39475\t3677024\n"
     ]
    }
   ],
   "source": [
    "%%bash\n",
    "cat sampleI/cap/twotofourmil.txt"
   ]
  },
  {
   "cell_type": "markdown",
   "metadata": {},
   "source": [
    "For first one in list calculate which line of fastq to start at"
   ]
  },
  {
   "cell_type": "code",
   "execution_count": 61,
   "metadata": {
    "scrolled": true
   },
   "outputs": [
    {
     "name": "stdout",
     "output_type": "stream",
     "text": [
      "332525\n"
     ]
    }
   ],
   "source": [
    "%%bash\n",
    "echo '(((2166263-2000000)/2)*4)+1' | bc"
   ]
  },
  {
   "cell_type": "markdown",
   "metadata": {},
   "source": [
    "Check that that line number is start of sequence\n"
   ]
  },
  {
   "cell_type": "code",
   "execution_count": 63,
   "metadata": {
    "scrolled": true
   },
   "outputs": [
    {
     "name": "stdout",
     "output_type": "stream",
     "text": [
      "@70_1_1105_17969_9596/1\n"
     ]
    }
   ],
   "source": [
    "%%bash\n",
    "zcat sampleI/cap/Ajordani86.fq.gz | awk 'NR==332525'"
   ]
  },
  {
   "cell_type": "markdown",
   "metadata": {},
   "source": [
    "Check that the endline number is the start of a new sequence"
   ]
  },
  {
   "cell_type": "code",
   "execution_count": 64,
   "metadata": {
    "scrolled": true
   },
   "outputs": [
    {
     "name": "stdout",
     "output_type": "stream",
     "text": [
      "@70_1_2224_9394_41440/1\n"
     ]
    }
   ],
   "source": [
    "%%bash\n",
    "zcat sampleI/cap/Ajordani86.fq.gz | awk 'NR==8332525'"
   ]
  },
  {
   "cell_type": "markdown",
   "metadata": {},
   "source": [
    "Now make sure that we can capture exactly 2,000,000 reads"
   ]
  },
  {
   "cell_type": "code",
   "execution_count": 65,
   "metadata": {
    "scrolled": true
   },
   "outputs": [
    {
     "name": "stdout",
     "output_type": "stream",
     "text": [
      "2000000\n"
     ]
    }
   ],
   "source": [
    "%%bash\n",
    "zcat sampleI/cap/Ajordani86.fq.gz | awk 'NR>=332525&&NR<8332525' | echo $((`wc -l`/4))"
   ]
  },
  {
   "cell_type": "code",
   "execution_count": 129,
   "metadata": {},
   "outputs": [
    {
     "name": "stdout",
     "output_type": "stream",
     "text": [
      "@70_1_2224_5355_41440/1\n",
      "TGCAGGAGCGTACTCATAATAATTCAGTTTTTGGTTTCAGGTCGATTTCCAGATGCTCAGATGTGTGTTGAAGACAGCGCATCGTGTCTTGGCCTGTCAGTTACTGGTTTTCCACAAGTTTTGAT\n",
      "+\n",
      "JJJJJJJJJJJJJJJJJJJJJJJJJJJJJJJJJJJJJJJJJJJJJJJJJJJJJJJJJJJJJJJJJJJJJJJJJJJJJJJJJJJJJJJJJJJJJJJJJJJJJJJJJJJJJJJJJJJAJJJJFJFAF\n"
     ]
    }
   ],
   "source": [
    "%%bash\n",
    "zcat sampleI/cap/Ajordani86.fq.gz | awk 'NR>=332525&&NR<8332525' | tail -n 4"
   ]
  },
  {
   "cell_type": "markdown",
   "metadata": {},
   "source": [
    "It worked so now need to loop for all those with more than 2 mil but fewer than 4 mil. First test the math in script and have it print the start and end line and make sure they match the numbers derived above"
   ]
  },
  {
   "cell_type": "code",
   "execution_count": 127,
   "metadata": {},
   "outputs": [
    {
     "name": "stdout",
     "output_type": "stream",
     "text": [
      "332525\n",
      "8332525\n"
     ]
    }
   ],
   "source": [
    "%%bash\n",
    "echo 'Ajordani86' | xargs -n 1 bash 2to4mil.sh"
   ]
  },
  {
   "cell_type": "code",
   "execution_count": 128,
   "metadata": {},
   "outputs": [
    {
     "name": "stdout",
     "output_type": "stream",
     "text": [
      "@70_1_2224_5355_41440/1\n",
      "TGCAGGAGCGTACTCATAATAATTCAGTTTTTGGTTTCAGGTCGATTTCCAGATGCTCAGATGTGTGTTGAAGACAGCGCATCGTGTCTTGGCCTGTCAGTTACTGGTTTTCCACAAGTTTTGAT\n",
      "+\n",
      "JJJJJJJJJJJJJJJJJJJJJJJJJJJJJJJJJJJJJJJJJJJJJJJJJJJJJJJJJJJJJJJJJJJJJJJJJJJJJJJJJJJJJJJJJJJJJJJJJJJJJJJJJJJJJJJJJJJAJJJJFJFAF\n"
     ]
    }
   ],
   "source": [
    "%%bash\n",
    "zcat sampleI/include/Ajordani86-cap.fq.gz | tail -n 4"
   ]
  },
  {
   "cell_type": "markdown",
   "metadata": {},
   "source": [
    "They match so now we can run the full script on all the files with 2-4 million reads"
   ]
  },
  {
   "cell_type": "code",
   "execution_count": 137,
   "metadata": {},
   "outputs": [],
   "source": [
    "%%bash\n",
    "awk '{print $2}' sampleI/cap/twotofourmil.txt | \\\n",
    "xargs -n 1 bash 2to4mil.sh"
   ]
  },
  {
   "cell_type": "markdown",
   "metadata": {},
   "source": [
    "Check that the correct number of capped files got transferred"
   ]
  },
  {
   "cell_type": "code",
   "execution_count": 138,
   "metadata": {
    "scrolled": true
   },
   "outputs": [
    {
     "name": "stdout",
     "output_type": "stream",
     "text": [
      "8\n"
     ]
    }
   ],
   "source": [
    "%%bash\n",
    "awk '{print $2}' sampleI/cap/twotofourmil.txt | wc -l"
   ]
  },
  {
   "cell_type": "code",
   "execution_count": 139,
   "metadata": {},
   "outputs": [
    {
     "name": "stdout",
     "output_type": "stream",
     "text": [
      "8\n"
     ]
    }
   ],
   "source": [
    "%%bash\n",
    "find sampleI/include/ -name \"*-cap.fq.gz\" | echo $((`wc -l`-27))"
   ]
  },
  {
   "cell_type": "markdown",
   "metadata": {},
   "source": [
    "Check number of reads for random capped file"
   ]
  },
  {
   "cell_type": "code",
   "execution_count": 140,
   "metadata": {},
   "outputs": [
    {
     "name": "stdout",
     "output_type": "stream",
     "text": [
      "2000000\n"
     ]
    }
   ],
   "source": [
    "%%bash\n",
    "zcat sampleI/include/Ccfmelanu2-cap.fq.gz | echo $((`wc -l`/4))"
   ]
  },
  {
   "cell_type": "markdown",
   "metadata": {},
   "source": [
    "## Step 6: Make sure all the files present\n",
    "Now make sure the correct number of files are in the include folder"
   ]
  },
  {
   "cell_type": "code",
   "execution_count": 141,
   "metadata": {},
   "outputs": [
    {
     "name": "stdout",
     "output_type": "stream",
     "text": [
      "44\n"
     ]
    }
   ],
   "source": [
    "%%bash\n",
    "awk '$6>100000' sampleI/Iretainedreads.txt | wc -l"
   ]
  },
  {
   "cell_type": "code",
   "execution_count": 142,
   "metadata": {},
   "outputs": [
    {
     "name": "stdout",
     "output_type": "stream",
     "text": [
      "44\n"
     ]
    }
   ],
   "source": [
    "%%bash\n",
    "ls sampleI/include/ | wc -l"
   ]
  },
  {
   "cell_type": "markdown",
   "metadata": {},
   "source": [
    "Next step is to run `ustacks` on each file in the include folder"
   ]
  }
 ],
 "metadata": {
  "kernelspec": {
   "display_name": "Python 3",
   "language": "python",
   "name": "python3"
  },
  "language_info": {
   "codemirror_mode": {
    "name": "ipython",
    "version": 3
   },
   "file_extension": ".py",
   "mimetype": "text/x-python",
   "name": "python",
   "nbconvert_exporter": "python",
   "pygments_lexer": "ipython3",
   "version": "3.7.0"
  }
 },
 "nbformat": 4,
 "nbformat_minor": 2
}
