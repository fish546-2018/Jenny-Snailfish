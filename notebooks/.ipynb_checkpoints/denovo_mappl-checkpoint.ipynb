{
 "cells": [
  {
   "cell_type": "markdown",
   "metadata": {},
   "source": [
    "Notebook for attempting to execute the `denovo_map.pl` as one line of code"
   ]
  },
  {
   "cell_type": "markdown",
   "metadata": {},
   "source": [
    "First execute with `-d` to do a dry run and doublecheck the commands to be executed"
   ]
  },
  {
   "cell_type": "code",
   "execution_count": 3,
   "metadata": {},
   "outputs": [
    {
     "name": "stderr",
     "output_type": "stream",
     "text": [
      "Parsed population map: 39 files in 1 population and 1 group.\n",
      "Found 39 sample file(s).\n",
      "\n",
      "Indentifying unique stacks...\n",
      "  /usr/local/bin/ustacks -t gzfastq -f ./sampleI/include/Ajordan521-cap.fq.gz -o ./stackspl -i 1 -M 2 -p 1  -m 5\n",
      "  /usr/local/bin/ustacks -t gzfastq -f ./sampleI/include/Ajordan522-cap.fq.gz -o ./stackspl -i 2 -M 2 -p 1  -m 5\n",
      "  /usr/local/bin/ustacks -t gzfastq -f ./sampleI/include/Ajordani86-cap.fq.gz -o ./stackspl -i 3 -M 2 -p 1  -m 5\n",
      "  /usr/local/bin/ustacks -t gzfastq -f ./sampleI/include/Ajordani89-cap.fq.gz -o ./stackspl -i 4 -M 2 -p 1  -m 5\n",
      "  /usr/local/bin/ustacks -t gzfastq -f ./sampleI/include/Aungak696-cap.fq.gz -o ./stackspl -i 5 -M 2 -p 1  -m 5\n",
      "  /usr/local/bin/ustacks -t gzfastq -f ./sampleI/include/Ccandidus-cap.fq.gz -o ./stackspl -i 6 -M 2 -p 1  -m 5\n",
      "  /usr/local/bin/ustacks -t gzfastq -f ./sampleI/include/Ccfcypselur-cap.fq.gz -o ./stackspl -i 7 -M 2 -p 1  -m 5\n",
      "  /usr/local/bin/ustacks -t gzfastq -f ./sampleI/include/Ccfmelanu1-cap.fq.gz -o ./stackspl -i 8 -M 2 -p 1  -m 5\n",
      "  /usr/local/bin/ustacks -t gzfastq -f ./sampleI/include/Ccfmelanu2-cap.fq.gz -o ./stackspl -i 9 -M 2 -p 1  -m 5\n",
      "  /usr/local/bin/ustacks -t gzfastq -f ./sampleI/include/Ccomus970-cap.fq.gz -o ./stackspl -i 10 -M 2 -p 1  -m 5\n",
      "  /usr/local/bin/ustacks -t gzfastq -f ./sampleI/include/Ccomus971-cap.fq.gz -o ./stackspl -i 11 -M 2 -p 1  -m 5\n",
      "  /usr/local/bin/ustacks -t gzfastq -f ./sampleI/include/Cfurcellu98-cap.fq.gz -o ./stackspl -i 12 -M 2 -p 1  -m 5\n",
      "  /usr/local/bin/ustacks -t gzfastq -f ./sampleI/include/Cgilberti81-cap.fq.gz -o ./stackspl -i 13 -M 2 -p 1  -m 5\n",
      "  /usr/local/bin/ustacks -t gzfastq -f ./sampleI/include/Cmelanu88.fq.gz -o ./stackspl -i 14 -M 2 -p 1  -m 5\n",
      "  /usr/local/bin/ustacks -t gzfastq -f ./sampleI/include/Cphasma07-cap.fq.gz -o ./stackspl -i 15 -M 2 -p 1  -m 5\n",
      "  /usr/local/bin/ustacks -t gzfastq -f ./sampleI/include/Cphasma61-cap.fq.gz -o ./stackspl -i 16 -M 2 -p 1  -m 5\n",
      "  /usr/local/bin/ustacks -t gzfastq -f ./sampleI/include/Crystalli1.fq.gz -o ./stackspl -i 17 -M 2 -p 1  -m 5\n",
      "  /usr/local/bin/ustacks -t gzfastq -f ./sampleI/include/Crystalli2-cap.fq.gz -o ./stackspl -i 18 -M 2 -p 1  -m 5\n",
      "  /usr/local/bin/ustacks -t gzfastq -f ./sampleI/include/Cscottae02-cap.fq.gz -o ./stackspl -i 19 -M 2 -p 1  -m 5\n",
      "  /usr/local/bin/ustacks -t gzfastq -f ./sampleI/include/Cscottae04-cap.fq.gz -o ./stackspl -i 20 -M 2 -p 1  -m 5\n",
      "  /usr/local/bin/ustacks -t gzfastq -f ./sampleI/include/Cstauffe96-cap.fq.gz -o ./stackspl -i 21 -M 2 -p 1  -m 5\n",
      "  /usr/local/bin/ustacks -t gzfastq -f ./sampleI/include/Ebritti822-cap.fq.gz -o ./stackspl -i 22 -M 2 -p 1  -m 5\n",
      "  /usr/local/bin/ustacks -t gzfastq -f ./sampleI/include/Ecaudatus1-cap.fq.gz -o ./stackspl -i 23 -M 2 -p 1  -m 5\n",
      "  /usr/local/bin/ustacks -t gzfastq -f ./sampleI/include/Ecaudatus2-cap.fq.gz -o ./stackspl -i 24 -M 2 -p 1  -m 5\n",
      "  /usr/local/bin/ustacks -t gzfastq -f ./sampleI/include/Ecaudatus3.fq.gz -o ./stackspl -i 25 -M 2 -p 1  -m 5\n",
      "  /usr/local/bin/ustacks -t gzfastq -f ./sampleI/include/Ecaudatus4-cap.fq.gz -o ./stackspl -i 26 -M 2 -p 1  -m 5\n",
      "  /usr/local/bin/ustacks -t gzfastq -f ./sampleI/include/Eorbis461-cap.fq.gz -o ./stackspl -i 27 -M 2 -p 1  -m 5\n",
      "  /usr/local/bin/ustacks -t gzfastq -f ./sampleI/include/Eorbis821-cap.fq.gz -o ./stackspl -i 28 -M 2 -p 1  -m 5\n",
      "  /usr/local/bin/ustacks -t gzfastq -f ./sampleI/include/Lferxi9829-cap.fq.gz -o ./stackspl -i 29 -M 2 -p 1  -m 5\n",
      "  /usr/local/bin/ustacks -t gzfastq -f ./sampleI/include/Lflorae666-cap.fq.gz -o ./stackspl -i 30 -M 2 -p 1  -m 5\n",
      "  /usr/local/bin/ustacks -t gzfastq -f ./sampleI/include/Lgibbus043-cap.fq.gz -o ./stackspl -i 31 -M 2 -p 1  -m 5\n",
      "  /usr/local/bin/ustacks -t gzfastq -f ./sampleI/include/Lgibbus176-cap.fq.gz -o ./stackspl -i 32 -M 2 -p 1  -m 5\n",
      "  /usr/local/bin/ustacks -t gzfastq -f ./sampleI/include/Lnanus2476-cap.fq.gz -o ./stackspl -i 33 -M 2 -p 1  -m 5\n",
      "  /usr/local/bin/ustacks -t gzfastq -f ./sampleI/include/Npelagicus-cap.fq.gz -o ./stackspl -i 34 -M 2 -p 1  -m 5\n",
      "  /usr/local/bin/ustacks -t gzfastq -f ./sampleI/include/Pdactyl51-cap.fq.gz -o ./stackspl -i 35 -M 2 -p 1  -m 5\n",
      "  /usr/local/bin/ustacks -t gzfastq -f ./sampleI/include/Ppenicillu-cap.fq.gz -o ./stackspl -i 36 -M 2 -p 1  -m 5\n",
      "  /usr/local/bin/ustacks -t gzfastq -f ./sampleI/include/Pptychoman-cap.fq.gz -o ./stackspl -i 37 -M 2 -p 1  -m 5\n",
      "  /usr/local/bin/ustacks -t gzfastq -f ./sampleI/include/Pulochir76.fq.gz -o ./stackspl -i 38 -M 2 -p 1  -m 5\n",
      "  /usr/local/bin/ustacks -t gzfastq -f ./sampleI/include/Rattenuatu-cap.fq.gz -o ./stackspl -i 39 -M 2 -p 1  -m 5\n",
      "\n",
      "Depths of Coverage for Processed Samples:\n",
      "\n",
      "Generating catalog...\n",
      "  /usr/local/bin/cstacks -P ./stackspl -M ./sampleI/popmap1.txt -n 10 -p 1\n",
      "\n",
      "Matching samples to the catalog...\n",
      "  /usr/local/bin/sstacks -P ./stackspl -M ./sampleI/popmap1.txt -p 1\n",
      "\n",
      "Sorting reads by RAD locus...\n",
      "  /usr/local/bin/tsv2bam -P ./stackspl  -M ./sampleI/popmap1.txt -t 1\n",
      "\n",
      "Calling variants, genotypes and haplotypes...\n",
      "  /usr/local/bin/gstacks -P ./stackspl -M ./sampleI/popmap1.txt -t 1\n",
      "\n",
      "Calculating population-level summary statistics\n",
      "  /usr/local/bin/populations -P ./stackspl -M ./sampleI/popmap1.txt -t 1  -k -p 20 -r 0.5 --fasta \n",
      "\n",
      "denovo_map.pl is done.\n"
     ]
    }
   ],
   "source": [
    "%%bash\n",
    "denovo_map.pl --samples ./sampleI/include --popmap ./sampleI/popmap1.txt -o ./stackspl \\\n",
    "-M 2 -n 10 -T 1 -d -X \"ustacks: -m 5\" -X \"populations: -k -p 20 -r 0.5 --fasta \""
   ]
  }
 ],
 "metadata": {
  "kernelspec": {
   "display_name": "Python 3",
   "language": "python",
   "name": "python3"
  },
  "language_info": {
   "codemirror_mode": {
    "name": "ipython",
    "version": 3
   },
   "file_extension": ".py",
   "mimetype": "text/x-python",
   "name": "python",
   "nbconvert_exporter": "python",
   "pygments_lexer": "ipython3",
   "version": "3.7.0"
  }
 },
 "nbformat": 4,
 "nbformat_minor": 2
}
