{
 "cells": [
  {
   "cell_type": "markdown",
   "metadata": {},
   "source": [
    "# Raw Data with Stacks v2"
   ]
  },
  {
   "cell_type": "markdown",
   "metadata": {},
   "source": [
    "This notebook is how I reran demultiplexing on my virtual machine. The first run only partially worked because my virtual machine ran out of space. I am now running all of this from an external hard drive that is connected to the main computer or virtual machine alternatively."
   ]
  },
  {
   "cell_type": "code",
   "execution_count": 1,
   "metadata": {},
   "outputs": [
    {
     "name": "stdout",
     "output_type": "stream",
     "text": [
      "/media/jenny/3TB_NFTS_ext/data\r\n"
     ]
    }
   ],
   "source": [
    "! pwd"
   ]
  },
  {
   "cell_type": "code",
   "execution_count": 2,
   "metadata": {
    "scrolled": true
   },
   "outputs": [
    {
     "name": "stdout",
     "output_type": "stream",
     "text": [
      "1078_S1_L001_R1_001.fastq     Data_Download_EHD.ipynb\r\n",
      "1078_S1_L001_R1_001.fastq.gz  Data-QT-dktp.ipynb\r\n",
      "barcodes_snailfish.txt\t      Data-QT-dktp-STACKS.ipynb\r\n",
      "checksum-desktop.sha\t      process_radtags.ipynb\r\n",
      "checksum-externalhd.sha\r\n"
     ]
    }
   ],
   "source": [
    "! ls"
   ]
  },
  {
   "cell_type": "code",
   "execution_count": 7,
   "metadata": {
    "scrolled": true
   },
   "outputs": [
    {
     "name": "stderr",
     "output_type": "stream",
     "text": [
      "process_radtags 2.2\n",
      "process_radtags -p in_dir [--paired [--interleaved]] [-b barcode_file] -o out_dir -e enz [-c] [-q] [-r] [-t len]\n",
      "process_radtags -f in_file [-b barcode_file] -o out_dir -e enz [-c] [-q] [-r] [-t len]\n",
      "process_radtags -1 pair_1 -2 pair_2 [-b barcode_file] -o out_dir -e enz [-c] [-q] [-r] [-t len]\n",
      "\n",
      "  p: path to a directory of files.\n",
      "  P,--paired: files contained within the directory are paired.\n",
      "  I,--interleaved: specify that the paired-end reads are interleaved in single files.\n",
      "  i: input file type, either 'fastq', 'gzfastq' (gzipped fastq), 'bam', or 'bustard' (default: guess, or gzfastq if unable to).\n",
      "  b: path to a file containing barcodes for this run, omit to ignore any barcoding.\n",
      "  o: path to output the processed files.\n",
      "  f: path to the input file if processing single-end sequences.\n",
      "  1: first input file in a set of paired-end sequences.\n",
      "  2: second input file in a set of paired-end sequences.\n",
      "  c,--clean: clean data, remove any read with an uncalled base.\n",
      "  q,--quality: discard reads with low quality scores.\n",
      "  r,--rescue: rescue barcodes and RAD-Tags.\n",
      "  t: truncate final read length to this value.\n",
      "  D: capture discarded reads to a file.\n",
      "  E: specify how quality scores are encoded, 'phred33' (Illumina 1.8+/Sanger, default) or 'phred64' (Illumina 1.3-1.5).\n",
      "  w: set the size of the sliding window as a fraction of the read length, between 0 and 1 (default 0.15).\n",
      "  s: set the score limit. If the average score within the sliding window drops below this value, the read is discarded (default 10).\n",
      "  y: output type, either 'fastq', 'gzfastq', 'fasta', or 'gzfasta' (default: match input type).\n",
      "\n",
      "  Barcode options:\n",
      "    --inline_null:   barcode is inline with sequence, occurs only on single-end read (default).\n",
      "    --index_null:    barcode is provded in FASTQ header (Illumina i5 or i7 read).\n",
      "    --null_index:    barcode is provded in FASTQ header (Illumina i7 read if both i5 and i7 read are provided).\n",
      "    --inline_inline: barcode is inline with sequence, occurs on single and paired-end read.\n",
      "    --index_index:   barcode is provded in FASTQ header (Illumina i5 and i7 reads).\n",
      "    --inline_index:  barcode is inline with sequence on single-end read and occurs in FASTQ header (from either i5 or i7 read).\n",
      "    --index_inline:  barcode occurs in FASTQ header (Illumina i5 or i7 read) and is inline with single-end sequence (for single-end data) on paired-end read (for paired-end data).\n",
      "\n",
      "  Restriction enzyme options:\n",
      "    -e <enz>, --renz_1 <enz>: provide the restriction enzyme used (cut site occurs on single-end read)\n",
      "    --renz_2 <enz>: if a double digest was used, provide the second restriction enzyme used (cut site occurs on the paired-end read).\n",
      "    Currently supported enzymes include:\n",
      "      'aciI', 'ageI', 'aluI', 'apaLI', 'apeKI', 'apoI', 'aseI', 'bamHI', \n",
      "      'bbvCI', 'bfaI', 'bfuCI', 'bgIII', 'bsaHI', 'bspDI', 'bstYI', 'cac8I', \n",
      "      'claI', 'csp6I', 'ddeI', 'dpnII', 'eaeI', 'ecoRI', 'ecoRV', 'ecoT22I', \n",
      "      'haeIII', 'hinP1I', 'hindIII', 'hpaII', 'kpnI', 'mluCI', 'mseI', 'mslI', \n",
      "      'mspI', 'ncoI', 'ndeI', 'nheI', 'nlaIII', 'notI', 'nsiI', 'nspI', \n",
      "      'pstI', 'rsaI', 'sacI', 'sau3AI', 'sbfI', 'sexAI', 'sgrAI', 'speI', \n",
      "      'sphI', 'taqI', 'xbaI', or 'xhoI'\n",
      "\n",
      "  Protocol-specific options:\n",
      "    --bestrad: library was generated using BestRAD, check for restriction enzyme on either read and potentially tranpose reads.\n",
      "\n",
      "  Adapter options:\n",
      "    --adapter_1 <sequence>: provide adaptor sequence that may occur on the single-end read for filtering.\n",
      "    --adapter_2 <sequence>: provide adaptor sequence that may occur on the paired-read for filtering.\n",
      "      --adapter_mm <mismatches>: number of mismatches allowed in the adapter sequence.\n",
      "\n",
      "  Output options:\n",
      "    --retain_header: retain unmodified FASTQ headers in the output.\n",
      "    --merge: if no barcodes are specified, merge all input files into a single output file.\n",
      "\n",
      "  Advanced options:\n",
      "    --filter_illumina: discard reads that have been marked by Illumina's chastity/purity filter as failing.\n",
      "    --disable_rad_check: disable checking if the RAD site is intact.\n",
      "    --len_limit <limit>: specify a minimum sequence length (useful if your data has already been trimmed).\n",
      "    --barcode_dist_1: the number of allowed mismatches when rescuing single-end barcodes (default 1).\n",
      "    --barcode_dist_2: the number of allowed mismatches when rescuing paired-end barcodes (defaults to --barcode_dist_1).\n"
     ]
    }
   ],
   "source": [
    "%%bash\n",
    "process_radtags -h"
   ]
  },
  {
   "cell_type": "markdown",
   "metadata": {},
   "source": [
    "   Run `process_radtags` trimming to 125 based on discussion with Ingrid. Us gzfastq to keep file sizes low"
   ]
  },
  {
   "cell_type": "code",
   "execution_count": 11,
   "metadata": {},
   "outputs": [
    {
     "name": "stderr",
     "output_type": "stream",
     "text": [
      "Processing single-end data.\n",
      "Using Phred+33 encoding for quality scores.\n",
      "Reads will be truncated to 125bp\n",
      "Found 1 input file(s).\n",
      "Searching for single-end, inlined barcodes.\n",
      "Loaded 48 barcodes (6bp).\n",
      "Will attempt to recover barcodes with at most 1 mismatches.\n",
      "Processing file 1 of 1 [1078_S1_L001_R1_001.fastq.gz]\n",
      "  Processing RAD-Tags...1M...2M...3M...4M...5M...6M...7M...8M...9M...10M...11M...12M...13M...14M...15M...16M...17M...18M...19M...20M...21M...22M...23M...24M...25M...26M...27M...28M...29M...30M...31M...32M...33M...34M...35M...36M...37M...38M...39M...40M...41M...42M...43M...44M...45M...46M...47M...48M...49M...50M...51M...52M...53M...54M...55M...56M...57M...58M...59M...60M...61M...62M...63M...64M...65M...66M...67M...68M...69M...70M...71M...72M...73M...74M...75M...76M...77M...78M...79M...80M...81M...82M...83M...84M...85M...86M...87M...88M...89M...90M...91M...92M...93M...94M...95M...96M...97M...98M...99M...100M...101M...102M...103M...104M...105M...106M...107M...108M...109M...110M...111M...112M...113M...114M...115M...116M...117M...118M...119M...120M...121M...122M...123M...124M...125M...126M...127M...128M...129M...130M...131M...132M...133M...134M...135M...136M...137M...138M...139M...140M...141M...142M...143M...144M...145M...146M...147M...148M...149M...150M...151M...152M...153M...154M...155M...156M...157M...158M...159M...160M...161M...162M...163M...164M...165M...166M...167M...168M...169M...170M...171M...172M...173M...174M...175M...176M...177M...178M...179M...180M...181M...182M...183M...184M...185M...186M...187M...188M...189M...190M...191M...192M...193M...194M...195M...196M...197M...198M...199M...200M...201M...202M...203M...204M...205M...206M...207M...208M...209M...210M...211M...212M...213M...214M...215M...216M...217M...218M...219M...220M...221M...222M...223M...224M...225M...226M...227M...228M...229M...230M...231M...232M...233M...234M...235M...236M...237M...238M...239M...240M...241M...242M...243M...244M...245M...246M...247M...248M...249M...250M...251M...252M...253M...254M...255M...256M...257M...258M...259M...260M...261M...262M...263M...264M...265M...266M...267M...268M...269M...270M...271M...272M...273M...274M...275M...276M...277M...278M...279M...280M...281M...282M...283M...284M...285M...286M...287M...288M...289M...290M...291M...292M...293M...294M...295M...296M...297M...298M...299M...300M...301M...302M...303M...304M...305M...306M...307M...308M...309M...310M...311M...312M...313M...314M...315M...316M...317M...318M...319M...320M...321M...322M...323M...324M...325M...326M...327M...328M...329M...330M...331M...332M...333M...334M...335M...336M...337M...338M...339M...340M...341M...342M...343M...344M...345M...346M...347M...348M...349M...350M...351M...352M...353M...354M...355M...356M...357M...358M...359M...360M...361M...362M...363M...364M...365M...366M...367M...368M...369M...370M...371M...372M...373M...374M...375M...376M...377M...378M...379M...380M...381M...382M...383M...384M...385M...386M...387M...388M...\n",
      "  388390826 total reads; -28096060 ambiguous barcodes; -14282385 ambiguous RAD-Tags; +16709054 recovered; -3697773 low quality reads; 342314608 retained reads.\n",
      "Closing files, flushing buffers...\n",
      "Outputing details to log: './sampleI/process_radtags.data.log'\n",
      "\n",
      "388390826 total sequences\n",
      " 28096060 barcode not found drops (7.2%)\n",
      "  3697773 low quality read drops (1.0%)\n",
      " 14282385 RAD cutsite not found drops (3.7%)\n",
      "342314608 retained reads (88.1%)\n"
     ]
    }
   ],
   "source": [
    "%%bash\n",
    "mkdir sampleI\n",
    "process_radtags -f ./1078_S1_L001_R1_001.fastq.gz -i gzfastq -o ./sampleI -b ./barcodes_snailfish.txt \\\n",
    "-e sbfI -r -c -q -t 125"
   ]
  },
  {
   "cell_type": "code",
   "execution_count": 12,
   "metadata": {
    "scrolled": false
   },
   "outputs": [
    {
     "name": "stdout",
     "output_type": "stream",
     "text": [
      "Ajordan521.fq.gz   Cmelanu89.fq.gz   Eorbis821.fq.gz\r\n",
      "Ajordan522.fq.gz   Cphasma07.fq.gz   Lferxi9829.fq.gz\r\n",
      "Ajordani86.fq.gz   Cphasma61.fq.gz   Lflorae666.fq.gz\r\n",
      "Ajordani89.fq.gz   Crystall87.fq.gz  Lgibbus043.fq.gz\r\n",
      "Aungak696.fq.gz    Crystalli1.fq.gz  Lgibbus176.fq.gz\r\n",
      "Cbowersian.fq.gz   Crystalli2.fq.gz  Lnanus2476.fq.gz\r\n",
      "Ccandidu2.fq.gz    Cscottae02.fq.gz  Lrutteri56.fq.gz\r\n",
      "Ccandidus.fq.gz    Cscottae04.fq.gz  Npelagicus.fq.gz\r\n",
      "Ccfcypselur.fq.gz  Cstauffe11.fq.gz  Pdactyl08.fq.gz\r\n",
      "Ccfmelanu1.fq.gz   Cstauffe96.fq.gz  Pdactyl51.fq.gz\r\n",
      "Ccfmelanu2.fq.gz   Ebritti822.fq.gz  Ppenicillu.fq.gz\r\n",
      "Ccomus970.fq.gz    Ecaudatus1.fq.gz  Pptychoman.fq.gz\r\n",
      "Ccomus971.fq.gz    Ecaudatus2.fq.gz  process_radtags.data.log\r\n",
      "Cfaunus841.fq.gz   Ecaudatus3.fq.gz  Pulochir76.fq.gz\r\n",
      "Cfurcellu98.fq.gz  Ecaudatus4.fq.gz  Rattenuatu.fq.gz\r\n",
      "Cgilberti81.fq.gz  Eorbis223.fq.gz\r\n",
      "Cmelanu88.fq.gz    Eorbis461.fq.gz\r\n"
     ]
    }
   ],
   "source": [
    "! ls sampleI/"
   ]
  },
  {
   "cell_type": "markdown",
   "metadata": {},
   "source": [
    "View the first 20 lines of the log file."
   ]
  },
  {
   "cell_type": "code",
   "execution_count": 13,
   "metadata": {
    "scrolled": true
   },
   "outputs": [
    {
     "name": "stdout",
     "output_type": "stream",
     "text": [
      "process_radtags v2.2, executed 2018-11-28 11:51:38\r\n",
      "process_radtags -f ./1078_S1_L001_R1_001.fastq.gz -i gzfastq -o ./sample1 -b ./barcodes_snailfish.txt -e sbfI -r -c -q -t 94\r\n",
      "File\tRetained Reads\tLow Quality\tBarcode Not Found\tRAD cutsite Not Found\tTotal\r\n",
      "1078_S1_L001_R1_001.fastq.gz\t342799353\t3213028\t28096060\t14282385\t388390826\r\n",
      "\r\n",
      "Total Sequences\t388390826\r\n",
      "Barcode Not Found\t28096060\r\n",
      "Low Quality\t3213028\r\n",
      "RAD Cutsite Not Found\t14282385\r\n",
      "Retained Reads\t342799353\r\n",
      "\r\n",
      "Barcode\tFilename\tTotal\tNoRadTag\tLowQuality\tRetained\r\n",
      "AAACGG\tEbritti822\t13727927\t302049\t125008\t13300870\r\n",
      "GCCGTA\tLferxi9829\t10949797\t232121\t99188\t10618488\r\n",
      "ACTCTT\tPulochir76\t1954273\t271903\t15281\t1667089\r\n",
      "TTCTAG\tAjordani86\t2389430\t200402\t19918\t2169110\r\n",
      "ATTCCG\tLrutteri56\t735557\t264743\t4257\t466557\r\n",
      "CCGCAT\tEcaudatus2\t8240813\t289587\t72943\t7878283\r\n",
      "CGAGGC\tPdactyl08\t287661\t159630\t1111\t126920\r\n",
      "CGCAGA\tCcandidus\t4444729\t250621\t38948\t4155160\r\n"
     ]
    }
   ],
   "source": [
    "! head -n 20 sample1/process_radtags.data.log"
   ]
  },
  {
   "cell_type": "markdown",
   "metadata": {},
   "source": [
    "Get an idea of the size differences of files. Size can be a good indication of read number"
   ]
  },
  {
   "cell_type": "code",
   "execution_count": 8,
   "metadata": {
    "scrolled": true
   },
   "outputs": [
    {
     "name": "stdout",
     "output_type": "stream",
     "text": [
      "total 17G\r\n",
      " 703M Ajordan521.fq.gz\t  1.4M Cmelanu89.fq.gz\t  1.3G Eorbis821.fq.gz\r\n",
      " 256M Ajordan522.fq.gz\t  168M Cphasma07.fq.gz\t  519M Lferxi9829.fq.gz\r\n",
      " 105M Ajordani86.fq.gz\t  178M Cphasma61.fq.gz\t  572M Lflorae666.fq.gz\r\n",
      " 259M Ajordani89.fq.gz\t  9.5M Crystall87.fq.gz   218M Lgibbus043.fq.gz\r\n",
      " 200M Aungak696.fq.gz\t   76M Crystalli1.fq.gz   213M Lgibbus176.fq.gz\r\n",
      " 120K Cbowersian.fq.gz\t  133M Crystalli2.fq.gz   315M Lnanus2476.fq.gz\r\n",
      "  12M Ccandidu2.fq.gz\t  290M Cscottae02.fq.gz    22M Lrutteri56.fq.gz\r\n",
      " 199M Ccandidus.fq.gz\t  383M Cscottae04.fq.gz   772M Npelagicus.fq.gz\r\n",
      " 213M Ccfcypselur.fq.gz  1000K Cstauffe11.fq.gz   6.1M Pdactyl08.fq.gz\r\n",
      " 169M Ccfmelanu1.fq.gz\t 1014M Cstauffe96.fq.gz   1.9G Pdactyl51.fq.gz\r\n",
      " 118M Ccfmelanu2.fq.gz\t  639M Ebritti822.fq.gz   436M Ppenicillu.fq.gz\r\n",
      " 902M Ccomus970.fq.gz\t  103M Ecaudatus1.fq.gz   382M Pptychoman.fq.gz\r\n",
      " 133M Ccomus971.fq.gz\t  376M Ecaudatus2.fq.gz    72K process_radtags.data.log\r\n",
      "  23M Cfaunus841.fq.gz\t   68M Ecaudatus3.fq.gz    80M Pulochir76.fq.gz\r\n",
      " 292M Cfurcellu98.fq.gz   1.6G Ecaudatus4.fq.gz   715M Rattenuatu.fq.gz\r\n",
      " 418M Cgilberti81.fq.gz   1.6M Eorbis223.fq.gz\r\n",
      "  70M Cmelanu88.fq.gz\t  216M Eorbis461.fq.gz\r\n"
     ]
    }
   ],
   "source": [
    "! ls -sh sample1/"
   ]
  },
  {
   "cell_type": "markdown",
   "metadata": {},
   "source": [
    "Run FastQC on one medium sized file to determine if restriction site overhang was retained"
   ]
  },
  {
   "cell_type": "code",
   "execution_count": null,
   "metadata": {},
   "outputs": [],
   "source": [
    "%%bash\n"
   ]
  }
 ],
 "metadata": {
  "kernelspec": {
   "display_name": "Python 3",
   "language": "python",
   "name": "python3"
  },
  "language_info": {
   "codemirror_mode": {
    "name": "ipython",
    "version": 3
   },
   "file_extension": ".py",
   "mimetype": "text/x-python",
   "name": "python",
   "nbconvert_exporter": "python",
   "pygments_lexer": "ipython3",
   "version": "3.7.0"
  }
 },
 "nbformat": 4,
 "nbformat_minor": 2
}
