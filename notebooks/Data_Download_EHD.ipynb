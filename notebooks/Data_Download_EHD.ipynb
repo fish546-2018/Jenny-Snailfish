{
 "cells": [
  {
   "cell_type": "markdown",
   "metadata": {},
   "source": [
    "# Raw Data with Stacks v2"
   ]
  },
  {
   "cell_type": "markdown",
   "metadata": {},
   "source": [
    "This notebook is how I double checked the data on my external hard drive from which I am now running analyses since I had issues with my virtual machine running out of space."
   ]
  },
  {
   "cell_type": "code",
   "execution_count": 1,
   "metadata": {},
   "outputs": [
    {
     "name": "stdout",
     "output_type": "stream",
     "text": [
      "/media/jenny/3TB_NFTS_ext/data\r\n"
     ]
    }
   ],
   "source": [
    "! pwd"
   ]
  },
  {
   "cell_type": "code",
   "execution_count": 2,
   "metadata": {},
   "outputs": [
    {
     "name": "stdout",
     "output_type": "stream",
     "text": [
      "1078_S1_L001_R1_001.fastq  checksum-externalhd.sha    process_radtags.ipynb\r\n",
      "barcodes_snailfish.txt\t   Data-QT-dktp.ipynb\t      sample1\r\n",
      "checksum-desktop.sha\t   Data-QT-dktp-STACKS.ipynb\r\n"
     ]
    }
   ],
   "source": [
    "! ls"
   ]
  },
  {
   "cell_type": "markdown",
   "metadata": {},
   "source": [
    "Run a checksum to make sure data copied corectly to the external hardrive"
   ]
  },
  {
   "cell_type": "code",
   "execution_count": 4,
   "metadata": {},
   "outputs": [],
   "source": [
    "%%bash\n",
    "shasum 1078_S1_L001_R1_001.fastq > ../checksum-externalhd.sha"
   ]
  },
  {
   "cell_type": "code",
   "execution_count": 3,
   "metadata": {},
   "outputs": [
    {
     "name": "stdout",
     "output_type": "stream",
     "text": [
      "cf431b3d4e3447fd8de2cee162b46123e3cd2aef *../data/1078_S1_L001_R1_001.fastq\r\n"
     ]
    }
   ],
   "source": [
    "! cat checksum-desktop.sha"
   ]
  },
  {
   "cell_type": "code",
   "execution_count": 4,
   "metadata": {},
   "outputs": [
    {
     "name": "stdout",
     "output_type": "stream",
     "text": [
      "cf431b3d4e3447fd8de2cee162b46123e3cd2aef  1078_S1_L001_R1_001.fastq\r\n"
     ]
    }
   ],
   "source": [
    "! cat checksum-externalhd.sha"
   ]
  },
  {
   "cell_type": "code",
   "execution_count": null,
   "metadata": {},
   "outputs": [],
   "source": [
    "%%bash\n",
    "shasum -c checksum-desktop.sha checksum-externalhd.sha"
   ]
  }
 ],
 "metadata": {
  "kernelspec": {
   "display_name": "Python 3",
   "language": "python",
   "name": "python3"
  },
  "language_info": {
   "codemirror_mode": {
    "name": "ipython",
    "version": 3
   },
   "file_extension": ".py",
   "mimetype": "text/x-python",
   "name": "python",
   "nbconvert_exporter": "python",
   "pygments_lexer": "ipython3",
   "version": "3.7.0"
  }
 },
 "nbformat": 4,
 "nbformat_minor": 2
}
