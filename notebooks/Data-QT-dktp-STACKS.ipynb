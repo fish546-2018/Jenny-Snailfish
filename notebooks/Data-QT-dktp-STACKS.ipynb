{
 "cells": [
  {
   "cell_type": "markdown",
   "metadata": {},
   "source": [
    "# Raw Data with Stacks"
   ]
  },
  {
   "cell_type": "markdown",
   "metadata": {},
   "source": [
    "This notebook is how I filtered and trimmed raw RADSeq data using the program Stacks."
   ]
  },
  {
   "cell_type": "markdown",
   "metadata": {},
   "source": [
    "Step 1: Install stacks."
   ]
  },
  {
   "cell_type": "markdown",
   "metadata": {},
   "source": [
    "Step 2: Run `process_radtags`"
   ]
  },
  {
   "cell_type": "code",
   "execution_count": 2,
   "metadata": {},
   "outputs": [
    {
     "name": "stdout",
     "output_type": "stream",
     "text": [
      "C:\\Users\\Jenny\\Documents\\GitHub\\Jenny-Snailfish\n"
     ]
    }
   ],
   "source": [
    "%cd ../"
   ]
  },
  {
   "cell_type": "code",
   "execution_count": 6,
   "metadata": {},
   "outputs": [
    {
     "name": "stdout",
     "output_type": "stream",
     "text": [
      "1078_S1_L001_R1_001.fastq\n",
      "1078_S1_L001_R1_001.fastq.gz\n",
      "1078_S1_L001_R1_001.fastq_trimming_report.txt\n",
      "1078_S1_L001_R1_001_fastqc.html\n",
      "1078_S1_L001_R1_001_fastqc.zip\n",
      "1078_S1_L001_R1_001_trimmed_fastqc.html\n",
      "1078_S1_L001_R1_001_trimmed_fastqc.zip\n",
      "barcodes_snailfish.txt\n",
      "checksum.sha\n",
      "checksum-desktop.sha\n",
      "README.md\n"
     ]
    }
   ],
   "source": [
    "! ls data/"
   ]
  },
  {
   "cell_type": "code",
   "execution_count": null,
   "metadata": {},
   "outputs": [],
   "source": [
    "%%bash\n",
    "process_radtags -f data/1078_S1_L001_R1_001.fastq -o data/sample1 -b ./data/barcodes_snailfish.txt -e sbfI -r -c -q"
   ]
  }
 ],
 "metadata": {
  "kernelspec": {
   "display_name": "Python 3",
   "language": "python",
   "name": "python3"
  },
  "language_info": {
   "codemirror_mode": {
    "name": "ipython",
    "version": 3
   },
   "file_extension": ".py",
   "mimetype": "text/x-python",
   "name": "python",
   "nbconvert_exporter": "python",
   "pygments_lexer": "ipython3",
   "version": "3.7.0"
  }
 },
 "nbformat": 4,
 "nbformat_minor": 2
}
