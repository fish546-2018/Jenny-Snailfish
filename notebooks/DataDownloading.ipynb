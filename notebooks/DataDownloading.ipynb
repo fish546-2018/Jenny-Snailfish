{
 "cells": [
  {
   "cell_type": "markdown",
   "metadata": {},
   "source": [
    "This notebook will document how I retrieved my data file from a fastq file shared with me on Google drive. "
   ]
  },
  {
   "cell_type": "code",
   "execution_count": 1,
   "metadata": {},
   "outputs": [
    {
     "name": "stdout",
     "output_type": "stream",
     "text": [
      "/c/Users/Jenny/Documents/GitHub/Jenny-Snailfish/Snailfish-Radseq/notebooks\n"
     ]
    }
   ],
   "source": [
    "!pwd"
   ]
  },
  {
   "cell_type": "markdown",
   "metadata": {},
   "source": [
    "First determine the path for the file in Google Drive on my machine"
   ]
  },
  {
   "cell_type": "code",
   "execution_count": 2,
   "metadata": {},
   "outputs": [
    {
     "name": "stdout",
     "output_type": "stream",
     "text": [
      "1078_S1_L001_R1_001.fastq.gz\n",
      "August 2018 Manuscripts to Review\n",
      "Beauchamp Lab\n",
      "desktop.ini\n",
      "Grad-School\n",
      "Honors Portfolio\n",
      "India Trip\n",
      "Mars\n",
      "McKennasCommi\n",
      "Old School Work\n",
      "Piit28\n",
      "Random From Dropbox\n",
      "Snailfish\n",
      "SSMSP\n",
      "TaxReturn2014.pdf\n",
      "WA State Licensing_ Driver Pre-Application.pdf\n"
     ]
    }
   ],
   "source": [
    "!ls /g/\"My Drive\"/"
   ]
  },
  {
   "cell_type": "markdown",
   "metadata": {},
   "source": [
    "Use `head` to verify that the path works, because of interface with Jupyter Notebook and Google Drive tab complete doesn't work. Also note that only `!head` works not `%%bash`"
   ]
  },
  {
   "cell_type": "code",
   "execution_count": 6,
   "metadata": {},
   "outputs": [
    {
     "name": "stdout",
     "output_type": "stream",
     "text": [
      "\u001f‹\b\u0004\u0000\u0000\u0000\u0000\u0000ÿ\u0006\u0000BC\u0002\u00003N½�ÍŽãº–¥ç÷)\n",
      "è‘Q0\u0010¿©È\u0003\u000fJ\u0015€¢¡B×(\u0006Õïÿ\"Íï[›²,9¬<·«[\u0011iK\u0014%§\u0017\u0017×þ!Åø·ÿxzz}\u001d",
      "þ\u001ažþúŸÿñò¿ÿ×¿ÿûý×_Ï=??µ——ß¿ÚËÛÛ¿<ÿõŸ=ýõü�ÿüþüúüüþú\u001c",
      "¿¾ÚÛ÷ØöÚq;\u001c",
      "ÛÑ×××Øö¨A¥oN§r+h•øi\u0015Z­ïïovÛEŸíì7W{¡7ñý“J\u001c",
      "}z\u000b",
      "¶|R+¢þh]oþýõ�ýÇÿ\u0018ÇË4Ocû7Ïó0´WvÚ+oõïbÑe\u001aç‰\n"
     ]
    }
   ],
   "source": [
    "!head -2 /g/\"My Drive\"/1078_S1_L001_R1_001.fastq.gz "
   ]
  },
  {
   "cell_type": "markdown",
   "metadata": {},
   "source": [
    "Now move the file from Google Drive to the data folder in my directory. Note: using `mv` because a previous attempt to use `cp` was super slow. (Move took **timehere**)"
   ]
  },
  {
   "cell_type": "code",
   "execution_count": 8,
   "metadata": {},
   "outputs": [],
   "source": [
    "!mv /g/\"My Drive\"/1078_S1_L001_R1_001.fastq.gz ../data/"
   ]
  },
  {
   "cell_type": "markdown",
   "metadata": {},
   "source": [
    "Check to make sure the move worked."
   ]
  },
  {
   "cell_type": "code",
   "execution_count": 9,
   "metadata": {},
   "outputs": [
    {
     "name": "stdout",
     "output_type": "stream",
     "text": [
      "1078_S1_L001_R1_001.fastq.gz\n",
      "README.md\n"
     ]
    }
   ],
   "source": [
    "!ls ../data/"
   ]
  },
  {
   "cell_type": "code",
   "execution_count": 10,
   "metadata": {},
   "outputs": [
    {
     "name": "stdout",
     "output_type": "stream",
     "text": [
      "\u001f‹\b\u0004\u0000\u0000\u0000\u0000\u0000ÿ\u0006\u0000BC\u0002\u00003N½�ÍŽãº–¥ç÷)\n",
      "è‘Q0\u0010¿©È\u0003\u000fJ\u0015€¢¡B×(\u0006Õïÿ\"Íï[›²,9¬<·«[\u0011iK\u0014%§\u0017\u0017×þ!Åø·ÿxzz}\u001d",
      "þ\u001ažþúŸÿñò¿ÿ×¿ÿûý×_Ï=??µ——ß¿ÚËÛÛ¿<ÿõŸ=ýõü�ÿüþüúüüþú\u001c",
      "¿¾ÚÛ÷ØöÚq;\u001c",
      "ÛÑ×××Øö¨A¥oN§r+h•øi\u0015Z­ïïovÛEŸíì7W{¡7ñý“J\u001c",
      "}z\u000b",
      "¶|R+¢þh]oþýõ�ýÇÿ\u0018ÇË4Ocû7Ïó0´WvÚ+oõïbÑe\u001aç‰\n"
     ]
    }
   ],
   "source": [
    "!head -2 ../data/1078_S1_L001_R1_001.fastq.gz"
   ]
  },
  {
   "cell_type": "markdown",
   "metadata": {},
   "source": [
    "Unzip the file and check that it is there and it worked."
   ]
  },
  {
   "cell_type": "code",
   "execution_count": 11,
   "metadata": {},
   "outputs": [],
   "source": [
    "%%bash\n",
    "gunzip -k ../data/1078_S1_L001_R1_001.fastq.gz"
   ]
  },
  {
   "cell_type": "code",
   "execution_count": 13,
   "metadata": {},
   "outputs": [
    {
     "name": "stdout",
     "output_type": "stream",
     "text": [
      "1078_S1_L001_R1_001.fastq\n",
      "1078_S1_L001_R1_001.fastq.gz\n",
      "README.md\n"
     ]
    }
   ],
   "source": [
    "!ls ../data/"
   ]
  },
  {
   "cell_type": "code",
   "execution_count": 14,
   "metadata": {},
   "outputs": [
    {
     "name": "stdout",
     "output_type": "stream",
     "text": [
      "@K00337:70:HK2YMBBXX:1:1101:1296:1244 1:N:0:1\n",
      "NTCGCCTGCAGGCTGTAGCACCTCAGATGTGGGAAGAGCCTCCTGTTAGCCTGCAGCTCTCACACAAAGGGATTTCAAAATGCCAGTGATGAGAGCTGTGGAGCTGCGATTGTGGCCCTGCCCCCACCTCATGGTGATACTGTGTGCAGTG\n"
     ]
    }
   ],
   "source": [
    "!head -2 ../data/1078_S1_L001_R1_001.fastq"
   ]
  },
  {
   "cell_type": "markdown",
   "metadata": {},
   "source": [
    "Create a checksum file for this file in case I have to redownload it."
   ]
  },
  {
   "cell_type": "code",
   "execution_count": 2,
   "metadata": {},
   "outputs": [
    {
     "name": "stdout",
     "output_type": "stream",
     "text": [
      "cf431b3d4e3447fd8de2cee162b46123e3cd2aef  ../data/1078_S1_L001_R1_001.fastq\n"
     ]
    }
   ],
   "source": [
    "%%bash\n",
    "shasum ../data/1078_S1_L001_R1_001.fastq "
   ]
  },
  {
   "cell_type": "code",
   "execution_count": 4,
   "metadata": {},
   "outputs": [],
   "source": [
    "%%bash\n",
    "shasum ../data/1078_S1_L001_R1_001.fastq >../data/checksum.sha"
   ]
  },
  {
   "cell_type": "code",
   "execution_count": 10,
   "metadata": {},
   "outputs": [
    {
     "name": "stdout",
     "output_type": "stream",
     "text": [
      "cf431b3d4e3447fd8de2cee162b46123e3cd2aef  ../data/1078_S1_L001_R1_001.fastq\n"
     ]
    }
   ],
   "source": [
    "!cat ../data/checksum.sha"
   ]
  }
 ],
 "metadata": {
  "kernelspec": {
   "display_name": "Python 3",
   "language": "python",
   "name": "python3"
  },
  "language_info": {
   "codemirror_mode": {
    "name": "ipython",
    "version": 3
   },
   "file_extension": ".py",
   "mimetype": "text/x-python",
   "name": "python",
   "nbconvert_exporter": "python",
   "pygments_lexer": "ipython3",
   "version": "3.7.0"
  }
 },
 "nbformat": 4,
 "nbformat_minor": 2
}
