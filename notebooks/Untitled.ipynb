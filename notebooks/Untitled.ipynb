{
 "cells": [
  {
   "cell_type": "code",
   "execution_count": 1,
   "metadata": {},
   "outputs": [
    {
     "name": "stdout",
     "output_type": "stream",
     "text": [
      "  Institution        Collection CatalogNumber  \\\n",
      "0        Uwfc  Adult Collection     Uw 009507   \n",
      "\n",
      "                                  OccurrenceID  \n",
      "0  urn:catalog:uwfc:adult collection:uw 009507  \n"
     ]
    }
   ],
   "source": [
    "import idigbio\n",
    "import pandas as pd\n",
    "OccurrenceIDs = []\n",
    "Query = {\"institutioncode\": \"Uwfc\",\n",
    "         \"catalognumber\": \"Uw 009507\",\n",
    "         \"collectioncode\": \"Adult Collection\"}\n",
    "api = idigbio.json()\n",
    "TempRecords = api.search_records(rq= Query )\n",
    "OccurrenceIDs.append(TempRecords['items'][0]['indexTerms']['occurrenceid'])\n",
    "SpecimenDictionary = {'Institution': \"Uwfc\",\n",
    "                      'Collection' : \"Adult Collection\",\n",
    "                      'CatalogNumber': \"Uw 009507\",\n",
    "                      'OccurrenceID': OccurrenceIDs}\n",
    "SpecimenDf = pd.DataFrame.from_dict(SpecimenDictionary)\n",
    "print (SpecimenDf)"
   ]
  },
  {
   "cell_type": "code",
   "execution_count": null,
   "metadata": {},
   "outputs": [],
   "source": []
  }
 ],
 "metadata": {
  "kernelspec": {
   "display_name": "Python 3",
   "language": "python",
   "name": "python3"
  },
  "language_info": {
   "codemirror_mode": {
    "name": "ipython",
    "version": 3
   },
   "file_extension": ".py",
   "mimetype": "text/x-python",
   "name": "python",
   "nbconvert_exporter": "python",
   "pygments_lexer": "ipython3",
   "version": "3.7.0"
  }
 },
 "nbformat": 4,
 "nbformat_minor": 2
}
