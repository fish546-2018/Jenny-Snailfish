{
 "cells": [
  {
   "cell_type": "markdown",
   "metadata": {},
   "source": [
    "## Running Downloaded Programs - Windows"
   ]
  },
  {
   "cell_type": "markdown",
   "metadata": {},
   "source": [
    "This notebook outlines making Jupyter Notebook find programs you have downloaded. So far I can make stand alone programs run in Jupyter Notebook, however programs that require something else (e.g. fastqc and java) have not worked but do work in the terminal."
   ]
  },
  {
   "cell_type": "markdown",
   "metadata": {},
   "source": [
    "I installed Jupyter notebook following Sam's [instructions](https://github.com/sr320/course-fish546-2018/issues/19) and noted the difference in using `!` versus `%%bash` this is important here"
   ]
  },
  {
   "cell_type": "markdown",
   "metadata": {},
   "source": [
    "When I run `pwd` with `!` it gives me different results than `%%bash`"
   ]
  },
  {
   "cell_type": "code",
   "execution_count": 1,
   "metadata": {},
   "outputs": [
    {
     "name": "stdout",
     "output_type": "stream",
     "text": [
      "/c/Users/FishLab3/Documents/GitHub/Jenny-Snailfish/Snailfish-Radseq/notebooks\n"
     ]
    }
   ],
   "source": [
    "!pwd"
   ]
  },
  {
   "cell_type": "code",
   "execution_count": 2,
   "metadata": {},
   "outputs": [
    {
     "name": "stdout",
     "output_type": "stream",
     "text": [
      "/c/Users/FishLab3/Documents/GitHub/Jenny-Snailfish/Snailfish-Radseq/notebooks\n"
     ]
    }
   ],
   "source": [
    "%%bash\n",
    "pwd"
   ]
  },
  {
   "cell_type": "markdown",
   "metadata": {},
   "source": [
    "Using `%%bash` is what worked making sure to use the absolute path including `/mnt/`. Note, tab complete did not work for me and I had to type it all in by hand. But it worked. I called the help file for both fastqc and blastx to make sure they worked. Note you have to call `help` differently in both. It is `--help` in fastqc but `-help` in blastx. "
   ]
  },
  {
   "cell_type": "markdown",
   "metadata": {},
   "source": [
    "This method allowed me to call "
   ]
  },
  {
   "cell_type": "code",
   "execution_count": 4,
   "metadata": {},
   "outputs": [
    {
     "name": "stdout",
     "output_type": "stream",
     "text": [
      "\n",
      "            FastQC - A high throughput sequence QC analysis tool\n",
      "\n",
      "SYNOPSIS\n",
      "\n",
      "\tfastqc seqfile1 seqfile2 .. seqfileN\n",
      "\n",
      "    fastqc [-o output dir] [--(no)extract] [-f fastq|bam|sam] \n",
      "           [-c contaminant file] seqfile1 .. seqfileN\n",
      "\n",
      "DESCRIPTION\n",
      "\n",
      "    FastQC reads a set of sequence files and produces from each one a quality\n",
      "    control report consisting of a number of different modules, each one of \n",
      "    which will help to identify a different potential type of problem in your\n",
      "    data.\n",
      "    \n",
      "    If no files to process are specified on the command line then the program\n",
      "    will start as an interactive graphical application.  If files are provided\n",
      "    on the command line then the program will run with no user interaction\n",
      "    required.  In this mode it is suitable for inclusion into a standardised\n",
      "    analysis pipeline.\n",
      "    \n",
      "    The options for the program as as follows:\n",
      "    \n",
      "    -h --help       Print this help file and exit\n",
      "    \n",
      "    -v --version    Print the version of the program and exit\n",
      "    \n",
      "    -o --outdir     Create all output files in the specified output directory.\n",
      "                    Please note that this directory must exist as the program\n",
      "                    will not create it.  If this option is not set then the \n",
      "                    output file for each sequence file is created in the same\n",
      "                    directory as the sequence file which was processed.\n",
      "                    \n",
      "    --casava        Files come from raw casava output. Files in the same sample\n",
      "                    group (differing only by the group number) will be analysed\n",
      "                    as a set rather than individually. Sequences with the filter\n",
      "                    flag set in the header will be excluded from the analysis.\n",
      "                    Files must have the same names given to them by casava\n",
      "                    (including being gzipped and ending with .gz) otherwise they\n",
      "                    won't be grouped together correctly.\n",
      "                    \n",
      "    --nano          Files come from nanopore sequences and are in fast5 format. In\n",
      "                    this mode you can pass in directories to process and the program\n",
      "                    will take in all fast5 files within those directories and produce\n",
      "                    a single output file from the sequences found in all files.                    \n",
      "                    \n",
      "    --nofilter      If running with --casava then don't remove read flagged by\n",
      "                    casava as poor quality when performing the QC analysis.\n",
      "                   \n",
      "    --extract       If set then the zipped output file will be uncompressed in\n",
      "                    the same directory after it has been created.  By default\n",
      "                    this option will be set if fastqc is run in non-interactive\n",
      "                    mode.\n",
      "                    \n",
      "    -j --java       Provides the full path to the java binary you want to use to\n",
      "                    launch fastqc. If not supplied then java is assumed to be in\n",
      "                    your path.\n",
      "                   \n",
      "    --noextract     Do not uncompress the output file after creating it.  You\n",
      "                    should set this option if you do not wish to uncompress\n",
      "                    the output when running in non-interactive mode.\n",
      "                    \n",
      "    --nogroup       Disable grouping of bases for reads >50bp. All reports will\n",
      "                    show data for every base in the read.  WARNING: Using this\n",
      "                    option will cause fastqc to crash and burn if you use it on\n",
      "                    really long reads, and your plots may end up a ridiculous size.\n",
      "                    You have been warned!\n",
      "                    \n",
      "    --min_length    Sets an artificial lower limit on the length of the sequence\n",
      "                    to be shown in the report.  As long as you set this to a value\n",
      "                    greater or equal to your longest read length then this will be\n",
      "                    the sequence length used to create your read groups.  This can\n",
      "                    be useful for making directly comaparable statistics from \n",
      "                    datasets with somewhat variable read lengths.\n",
      "                    \n",
      "    -f --format     Bypasses the normal sequence file format detection and\n",
      "                    forces the program to use the specified format.  Valid\n",
      "                    formats are bam,sam,bam_mapped,sam_mapped and fastq\n",
      "                    \n",
      "    -t --threads    Specifies the number of files which can be processed\n",
      "                    simultaneously.  Each thread will be allocated 250MB of\n",
      "                    memory so you shouldn't run more threads than your\n",
      "                    available memory will cope with, and not more than\n",
      "                    6 threads on a 32 bit machine\n",
      "                  \n",
      "    -c              Specifies a non-default file which contains the list of\n",
      "    --contaminants  contaminants to screen overrepresented sequences against.\n",
      "                    The file must contain sets of named contaminants in the\n",
      "                    form name[tab]sequence.  Lines prefixed with a hash will\n",
      "                    be ignored.\n",
      "\n",
      "    -a              Specifies a non-default file which contains the list of\n",
      "    --adapters      adapter sequences which will be explicity searched against\n",
      "                    the library. The file must contain sets of named adapters\n",
      "                    in the form name[tab]sequence.  Lines prefixed with a hash\n",
      "                    will be ignored.\n",
      "                    \n",
      "    -l              Specifies a non-default file which contains a set of criteria\n",
      "    --limits        which will be used to determine the warn/error limits for the\n",
      "                    various modules.  This file can also be used to selectively \n",
      "                    remove some modules from the output all together.  The format\n",
      "                    needs to mirror the default limits.txt file found in the\n",
      "                    Configuration folder.\n",
      "                    \n",
      "   -k --kmers       Specifies the length of Kmer to look for in the Kmer content\n",
      "                    module. Specified Kmer length must be between 2 and 10. Default\n",
      "                    length is 7 if not specified.\n",
      "                    \n",
      "   -q --quiet       Supress all progress messages on stdout and only report errors.\n",
      "   \n",
      "   -d --dir         Selects a directory to be used for temporary files written when\n",
      "                    generating report images. Defaults to system temp directory if\n",
      "                    not specified.\n",
      "                    \n",
      "BUGS\n",
      "\n",
      "    Any bugs in fastqc should be reported either to simon.andrews@babraham.ac.uk\n",
      "    or in www.bioinformatics.babraham.ac.uk/bugzilla/\n",
      "                   \n",
      "    \n"
     ]
    }
   ],
   "source": [
    "%%bash\n",
    "/c/Users/FishLab3/Bioinfo-progs/FastQC/fastqc --help"
   ]
  },
  {
   "cell_type": "code",
   "execution_count": 10,
   "metadata": {
    "scrolled": false
   },
   "outputs": [
    {
     "name": "stdout",
     "output_type": "stream",
     "text": [
      "USAGE\r\n",
      "  blastx [-h] [-help] [-import_search_strategy filename]\r\n",
      "    [-export_search_strategy filename] [-task task_name] [-db database_name]\r\n",
      "    [-dbsize num_letters] [-gilist filename] [-seqidlist filename]\r\n",
      "    [-negative_gilist filename] [-negative_seqidlist filename]\r\n",
      "    [-entrez_query entrez_query] [-db_soft_mask filtering_algorithm]\r\n",
      "    [-db_hard_mask filtering_algorithm] [-subject subject_input_file]\r\n",
      "    [-subject_loc range] [-query input_file] [-out output_file]\r\n",
      "    [-evalue evalue] [-word_size int_value] [-gapopen open_penalty]\r\n",
      "    [-gapextend extend_penalty] [-qcov_hsp_perc float_value]\r\n",
      "    [-max_hsps int_value] [-xdrop_ungap float_value] [-xdrop_gap float_value]\r\n",
      "    [-xdrop_gap_final float_value] [-searchsp int_value]\r\n",
      "    [-sum_stats bool_value] [-max_intron_length length] [-seg SEG_options]\r\n",
      "    [-soft_masking soft_masking] [-matrix matrix_name]\r\n",
      "    [-threshold float_value] [-culling_limit int_value]\r\n",
      "    [-best_hit_overhang float_value] [-best_hit_score_edge float_value]\r\n",
      "    [-window_size int_value] [-ungapped] [-lcase_masking] [-query_loc range]\r\n",
      "    [-strand strand] [-parse_deflines] [-query_gencode int_value]\r\n",
      "    [-outfmt format] [-show_gis] [-num_descriptions int_value]\r\n",
      "    [-num_alignments int_value] [-line_length line_length] [-html]\r\n",
      "    [-max_target_seqs num_sequences] [-num_threads int_value] [-remote]\r\n",
      "    [-comp_based_stats compo] [-use_sw_tback] [-version]\r\n",
      "\r\n",
      "DESCRIPTION\r\n",
      "   Translated Query-Protein Subject BLAST 2.7.1+\r\n",
      "\r\n",
      "Use '-help' to print detailed descriptions of command line arguments\r\n"
     ]
    }
   ],
   "source": [
    "%%bash\n",
    "/c/Users/FishLab3/Bioinfo-progs/blast-2.7.1+/bin/blastx.exe -h"
   ]
  },
  {
   "cell_type": "code",
   "execution_count": null,
   "metadata": {},
   "outputs": [],
   "source": [
    "!ls ../../blast-tutorial/"
   ]
  },
  {
   "cell_type": "markdown",
   "metadata": {},
   "source": [
    "Proof that it works using blast with the command from the blast-tutorial"
   ]
  },
  {
   "cell_type": "code",
   "execution_count": 9,
   "metadata": {},
   "outputs": [
    {
     "name": "stderr",
     "output_type": "stream",
     "text": [
      "BLAST Database error: No alias or index file found for protein database [..\\..\\blast-tutorial\\db\\uniprot_sprot_r2018_08] in search path [C:\\Users\\FishLab3\\Documents\\GitHub\\Jenny-Snailfish\\Snailfish-Radseq\\notebooks;;]\r\n"
     ]
    }
   ],
   "source": [
    "%%bash\n",
    "/c/Users/FishLab3/Bioinfo-progs/blast-2.7.1+/bin/blastx.exe \\\n",
    "-query ../../blast-tutorial/query/Ab_4denovo_CLC6_a.fa \\\n",
    "-db ../../blast-tutorial/db/uniprot_sprot_r2018_08 \\\n",
    "-out ../../blast-tutorial/analyses/Ab_4-uniprot_blastx.tab \\\n",
    "-evalue 1E-20 \\\n",
    "-num_threads 4 \\\n",
    "-max_target_seqs 1 \\\n",
    "-outfmt 6"
   ]
  },
  {
   "cell_type": "markdown",
   "metadata": {},
   "source": [
    "**I have gotten both FastQC and Trim Galore to work from Jupyter Notebooks on my desktop computer but not through my laptop (not sure why)**"
   ]
  },
  {
   "cell_type": "markdown",
   "metadata": {},
   "source": [
    "## Failed Methods"
   ]
  },
  {
   "cell_type": "markdown",
   "metadata": {},
   "source": [
    "These are all the other different ways I tried calling fastqc before I got it to work as above. "
   ]
  },
  {
   "cell_type": "code",
   "execution_count": 23,
   "metadata": {},
   "outputs": [
    {
     "name": "stderr",
     "output_type": "stream",
     "text": [
      "-bash: line 1: /c/Users/Jenny/Bioinfo-progs/FastQC/fastqc: No such file or directory\n"
     ]
    }
   ],
   "source": [
    "%%bash\n",
    "/c/Users/Jenny/Bioinfo-progs/FastQC/fastqc --help"
   ]
  },
  {
   "cell_type": "code",
   "execution_count": 27,
   "metadata": {},
   "outputs": [
    {
     "name": "stderr",
     "output_type": "stream",
     "text": [
      "The system cannot find the path specified.\n"
     ]
    }
   ],
   "source": [
    "!/c/Users/Jenny/Bioinfo-progs/FastQC/fastqc --help"
   ]
  },
  {
   "cell_type": "code",
   "execution_count": 25,
   "metadata": {},
   "outputs": [
    {
     "name": "stderr",
     "output_type": "stream",
     "text": [
      "-bash: line 1: C:UsersJennyBioinfo-progsFastQCfastqc: command not found\n"
     ]
    }
   ],
   "source": [
    "%%bash\n",
    "C:\\Users\\Jenny\\Bioinfo-progs\\FastQC\\fastqc --help"
   ]
  },
  {
   "cell_type": "code",
   "execution_count": 26,
   "metadata": {
    "scrolled": true
   },
   "outputs": [
    {
     "name": "stderr",
     "output_type": "stream",
     "text": [
      "'C:\\Users\\Jenny\\Bioinfo-progs\\FastQC\\fastqc' is not recognized as an internal or external command,\n",
      "operable program or batch file.\n"
     ]
    }
   ],
   "source": [
    "!C:\\Users\\Jenny\\Bioinfo-progs\\FastQC\\fastqc --help"
   ]
  },
  {
   "cell_type": "code",
   "execution_count": 28,
   "metadata": {},
   "outputs": [
    {
     "name": "stderr",
     "output_type": "stream",
     "text": [
      "-bash: line 1: rC:\\Users\\Jenny\\Bioinfo-progs\\FastQC\\fastqc: command not found\n"
     ]
    }
   ],
   "source": [
    "%%bash\n",
    "r'C:\\Users\\Jenny\\Bioinfo-progs\\FastQC\\fastqc' --help"
   ]
  },
  {
   "cell_type": "code",
   "execution_count": 30,
   "metadata": {},
   "outputs": [
    {
     "name": "stderr",
     "output_type": "stream",
     "text": [
      "The filename, directory name, or volume label syntax is incorrect.\n"
     ]
    }
   ],
   "source": [
    "!'C:\\Users\\Jenny\\Bioinfo-progs\\FastQC\\fastqc' --help"
   ]
  },
  {
   "cell_type": "code",
   "execution_count": 26,
   "metadata": {
    "scrolled": true
   },
   "outputs": [
    {
     "name": "stderr",
     "output_type": "stream",
     "text": [
      "'C:\\Users\\Jenny\\Bioinfo-progs\\FastQC\\fastqc' is not recognized as an internal or external command,\n",
      "operable program or batch file.\n"
     ]
    }
   ],
   "source": [
    "!C:\\Users\\Jenny\\Bioinfo-progs\\FastQC\\fastqc --help"
   ]
  }
 ],
 "metadata": {
  "kernelspec": {
   "display_name": "Python 3",
   "language": "python",
   "name": "python3"
  },
  "language_info": {
   "codemirror_mode": {
    "name": "ipython",
    "version": 3
   },
   "file_extension": ".py",
   "mimetype": "text/x-python",
   "name": "python",
   "nbconvert_exporter": "python",
   "pygments_lexer": "ipython3",
   "version": "3.7.0"
  }
 },
 "nbformat": 4,
 "nbformat_minor": 2
}
