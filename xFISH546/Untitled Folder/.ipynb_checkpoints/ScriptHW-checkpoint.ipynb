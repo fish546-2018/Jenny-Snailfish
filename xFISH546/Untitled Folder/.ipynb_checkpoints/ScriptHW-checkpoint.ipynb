{
 "cells": [
  {
   "cell_type": "markdown",
   "metadata": {},
   "source": [
    "Script intended to unzip, rename, rearrange, and rezip files downloaded from an online repository"
   ]
  },
  {
   "cell_type": "markdown",
   "metadata": {},
   "source": [
    "Step 1 is to make a directory in which to download the data"
   ]
  },
  {
   "cell_type": "markdown",
   "metadata": {},
   "source": [
    "Step 2 is to download the data as a zipped directory using `curl` to the Downloads directory"
   ]
  },
  {
   "cell_type": "markdown",
   "metadata": {},
   "source": [
    "Step 3 is to unzip, move, and rename the directory using `gunzip -k` (Can I use gunzip to unzip and rename?)"
   ]
  },
  {
   "cell_type": "markdown",
   "metadata": {},
   "source": [
    "Step 4 is to search the directory in old names and get a summary of files and file types (should be 1 .pca and many .tiff)"
   ]
  },
  {
   "cell_type": "markdown",
   "metadata": {},
   "source": [
    "Step 5 create a new specimen directory in To Do directory with correct naming structure"
   ]
  },
  {
   "cell_type": "markdown",
   "metadata": {},
   "source": [
    "Step 6 Copy and rename the .pca file to the To Do directory"
   ]
  },
  {
   "cell_type": "markdown",
   "metadata": {},
   "source": [
    "Step 7 Copy and rename each .tiff in the stack to the new specimen directory"
   ]
  },
  {
   "cell_type": "markdown",
   "metadata": {},
   "source": [
    "Step 8 Zip the .tiff stack"
   ]
  },
  {
   "cell_type": "markdown",
   "metadata": {},
   "source": [
    "Directory structure\n",
    "Batch Uploading Directory\n",
    "    - python scripts\n",
    "    - This script\n",
    "    - Downloads/\n",
    "        - contains zipped directories downloaded directly from VMNH\n",
    "    - Raw-Unzipped/\n",
    "        - contains unzipped files with the old names\n",
    "    - To Do/\n",
    "        - .pca and zipped tiff stacks"
   ]
  }
 ],
 "metadata": {
  "kernelspec": {
   "display_name": "Python 3",
   "language": "python",
   "name": "python3"
  },
  "language_info": {
   "codemirror_mode": {
    "name": "ipython",
    "version": 3
   },
   "file_extension": ".py",
   "mimetype": "text/x-python",
   "name": "python",
   "nbconvert_exporter": "python",
   "pygments_lexer": "ipython3",
   "version": "3.7.0"
  }
 },
 "nbformat": 4,
 "nbformat_minor": 2
}
